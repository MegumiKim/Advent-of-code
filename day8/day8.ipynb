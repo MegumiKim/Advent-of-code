{
 "cells": [
  {
   "cell_type": "code",
   "execution_count": 3,
   "id": "35dfed0f",
   "metadata": {},
   "outputs": [
    {
     "name": "stdout",
     "output_type": "stream",
     "text": [
      "Part1: (False, 1521)\n"
     ]
    }
   ],
   "source": [
    "with open(\"input\") as file:\n",
    "    lines = file.read().splitlines()\n",
    "    lines = [line.split(\" \") for line in lines]\n",
    "\n",
    "\n",
    "#Part 1:\n",
    "def try_lines(lines):\n",
    "    executed_lines = []\n",
    "    accumulator = 0\n",
    "    position = 0 \n",
    "\n",
    "    while True:\n",
    " \n",
    "        instruction, argument = lines[position]\n",
    "        executed_lines.append(position)\n",
    "\n",
    "        if instruction == 'acc':\n",
    "            accumulator += int(argument)\n",
    "            position += 1\n",
    "        elif instruction == 'jmp':\n",
    "            position += int(argument)\n",
    "        else:\n",
    "            position += 1\n",
    "\n",
    "        if position in executed_lines:\n",
    "            return (False, accumulator)\n",
    "        if position == len(lines):\n",
    "            return (True, accumulator)\n",
    "\n",
    "\n",
    "print(\"Part1:\", try_lines(lines))"
   ]
  },
  {
   "cell_type": "code",
   "execution_count": 33,
   "id": "ad924b42",
   "metadata": {},
   "outputs": [
    {
     "name": "stdout",
     "output_type": "stream",
     "text": [
      "(True, 1016)\n"
     ]
    }
   ],
   "source": [
    "#Part 2:\n",
    "\n",
    "def fix_the_program(lines):\n",
    "\n",
    "    for i in range(len(lines)):\n",
    "        copy_lines = lines.copy()\n",
    "    \n",
    "        if copy_lines[i][0] == 'jmp':\n",
    "            copy_lines[i] = ('nop', copy_lines[i][1],)\n",
    "        elif copy_lines[i][0] == 'nop':\n",
    "            copy_lines[i] = ('jmp', copy_lines[i][1],)\n",
    "\n",
    "        result, accumulator = try_lines(copy_lines)\n",
    "        if result == True:\n",
    "            return result, accumulator\n",
    "    \n",
    "print(fix_the_program(lines))"
   ]
  }
 ],
 "metadata": {
  "kernelspec": {
   "display_name": "Python 3 (ipykernel)",
   "language": "python",
   "name": "python3"
  },
  "language_info": {
   "codemirror_mode": {
    "name": "ipython",
    "version": 3
   },
   "file_extension": ".py",
   "mimetype": "text/x-python",
   "name": "python",
   "nbconvert_exporter": "python",
   "pygments_lexer": "ipython3",
   "version": "3.9.6"
  }
 },
 "nbformat": 4,
 "nbformat_minor": 5
}
