{
 "cells": [
  {
   "cell_type": "code",
   "execution_count": 9,
   "id": "671a46dd",
   "metadata": {},
   "outputs": [
    {
     "name": "stdout",
     "output_type": "stream",
     "text": [
      "Part1: 1521\n"
     ]
    }
   ],
   "source": [
    "with open(\"input\") as file:\n",
    "    lines = file.read().splitlines()\n",
    "    lines = [line.split(\" \") for line in lines]\n",
    "\n",
    "\n",
    "#Part 1:\n",
    "\n",
    "executed_lines = []\n",
    "accumulator = 0\n",
    "position = 0 \n",
    "\n",
    "while position not in executed_lines:    \n",
    "    instruction, argument = lines[position]\n",
    "\n",
    "    executed_lines.append(position)\n",
    "\n",
    "    if instruction == 'acc':\n",
    "        accumulator += int(argument)\n",
    "        position += 1\n",
    "    elif instruction == 'jmp':\n",
    "        position += int(argument)\n",
    "    else:\n",
    "        position += 1\n",
    "        \n",
    "print(\"Part1:\", accumulator)"
   ]
  },
  {
   "cell_type": "code",
   "execution_count": 13,
   "id": "35dfed0f",
   "metadata": {},
   "outputs": [
    {
     "name": "stdout",
     "output_type": "stream",
     "text": [
      "(False, 1521)\n"
     ]
    }
   ],
   "source": [
    "with open(\"input\") as file:\n",
    "    lines = file.read().splitlines()\n",
    "    lines = [line.split(\" \") for line in lines]\n",
    "\n",
    "\n",
    "#Part 1:\n",
    "def try_lines(lines):\n",
    "    executed_lines = []\n",
    "    accumulator = 0\n",
    "    position = 0 \n",
    "\n",
    "    while True:\n",
    "        if position in executed_lines:\n",
    "            return (False, accumulator)\n",
    "        if position == len(lines):\n",
    "            return (True, accumulator)\n",
    "\n",
    "        instruction, argument = lines[position]\n",
    "\n",
    "        executed_lines.append(position)\n",
    "\n",
    "        if instruction == 'acc':\n",
    "            accumulator += int(argument)\n",
    "            position += 1\n",
    "        elif instruction == 'jmp':\n",
    "            position += int(argument)\n",
    "        else:\n",
    "            position += 1\n",
    "\n",
    "    found = try_lines(lines)\n",
    "print(found)"
   ]
  },
  {
   "cell_type": "code",
   "execution_count": null,
   "id": "33b1eb88",
   "metadata": {},
   "outputs": [],
   "source": []
  }
 ],
 "metadata": {
  "kernelspec": {
   "display_name": "Python 3",
   "language": "python",
   "name": "python3"
  },
  "language_info": {
   "codemirror_mode": {
    "name": "ipython",
    "version": 3
   },
   "file_extension": ".py",
   "mimetype": "text/x-python",
   "name": "python",
   "nbconvert_exporter": "python",
   "pygments_lexer": "ipython3",
   "version": "3.9.4"
  }
 },
 "nbformat": 4,
 "nbformat_minor": 5
}
