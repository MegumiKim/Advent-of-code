{
 "cells": [
  {
   "cell_type": "code",
   "execution_count": 102,
   "id": "4f8f98c6",
   "metadata": {},
   "outputs": [
    {
     "name": "stdout",
     "output_type": "stream",
     "text": [
      "[1, 4, 5, 6, 7, 10, 11, 12, 15, 16, 19]\n"
     ]
    }
   ],
   "source": [
    "with open ('input copy') as file:\n",
    "    nums = list(map(int,file.readlines()))\n",
    "lines = sorted(nums)\n",
    "print(lines)"
   ]
  },
  {
   "cell_type": "code",
   "execution_count": 56,
   "id": "a4e45b48",
   "metadata": {},
   "outputs": [
    {
     "name": "stdout",
     "output_type": "stream",
     "text": [
      "Part1: 220\n"
     ]
    }
   ],
   "source": [
    "# Part1:\n",
    "    \n",
    "def count_jolts(nums):\n",
    "    \n",
    "    one_jolts = 1\n",
    "    three_jolts = 1\n",
    "    \n",
    "    for i in range(len(nums)-1):\n",
    "        jolts_diff = nums[i+1]-nums[i]\n",
    "        \n",
    "        if jolts_diff == 1:\n",
    "            one_jolts += 1\n",
    "        elif jolts_diff == 3:\n",
    "            three_jolts += 1\n",
    "    \n",
    "    return one_jolts * three_jolts\n",
    "\n",
    "print(\"Part1:\", count_jolts(nums))"
   ]
  },
  {
   "cell_type": "code",
   "execution_count": 92,
   "id": "2766626a",
   "metadata": {},
   "outputs": [],
   "source": [
    "# def count_arrangements(start, adapters, count=0):\n",
    "    \n",
    "#     if len(adapters) == 0:\n",
    "#         count += 1\n",
    "# #     print(count, start, adapters)\n",
    "#     for adapter in adapters:\n",
    "#         if adapter - start <= 3:\n",
    "#             index = adapters.index(adapter)\n",
    "#             count += count_arrangements(adapter, adapters[index+1:])\n",
    "#         else:\n",
    "#             break\n",
    "#     return count\n",
    "\n",
    "# with open ('input') as file:\n",
    "#     nums = list(map(int,file.readlines()))\n",
    "# lines = sorted(nums)\n",
    "\n",
    "# print(lines)\n",
    "# print(count_arrangements(0, lines))\n"
   ]
  },
  {
   "cell_type": "code",
   "execution_count": 3,
   "id": "c8bbbd62",
   "metadata": {},
   "outputs": [
    {
     "name": "stdout",
     "output_type": "stream",
     "text": [
      "{0: 1, 1: 1, 2: 2, 3: 4, 6: 4, 7: 4, 8: 8, 9: 16, 12: 16, 13: 16, 14: 32, 15: 64, 16: 112, 19: 112, 20: 112, 21: 224, 22: 448, 23: 784, 26: 784, 27: 784, 28: 1568, 29: 3136, 30: 5488, 33: 5488, 34: 5488, 35: 10976, 38: 10976, 39: 10976, 40: 21952, 41: 43904, 42: 76832, 45: 76832, 46: 76832, 47: 153664, 48: 307328, 49: 537824, 52: 537824, 53: 537824, 54: 1075648, 57: 1075648, 60: 1075648, 61: 1075648, 62: 2151296, 63: 4302592, 64: 7529536, 67: 7529536, 70: 7529536, 71: 7529536, 74: 7529536, 77: 7529536, 78: 7529536, 79: 15059072, 80: 30118144, 83: 30118144, 84: 30118144, 85: 60236288, 86: 120472576, 87: 210827008, 90: 210827008, 91: 210827008, 92: 421654016, 93: 843308032, 94: 1475789056, 97: 1475789056, 98: 1475789056, 101: 1475789056, 102: 1475789056, 105: 1475789056, 106: 1475789056, 107: 2951578112, 108: 5903156224, 111: 5903156224, 112: 5903156224, 113: 11806312448, 114: 23612624896, 115: 41322093568, 118: 41322093568, 121: 41322093568, 124: 41322093568, 125: 41322093568, 126: 82644187136, 127: 165288374272, 130: 165288374272, 131: 165288374272, 132: 330576748544, 133: 661153497088, 134: 1157018619904, 137: 1157018619904, 140: 1157018619904, 141: 1157018619904, 142: 2314037239808, 145: 2314037239808, 146: 2314037239808, 147: 4628074479616, 148: 9256148959232, 151: 9256148959232, 154: 9256148959232, 155: 9256148959232, 158: 9256148959232, 159: 9256148959232, 160: 18512297918464, 161: 37024595836928, 162: 64793042714624, 165: 64793042714624, 166: 64793042714624, 167: 129586085429248, 168: 259172170858496, 169: 453551299002368}\n"
     ]
    }
   ],
   "source": [
    "with open ('input') as file:\n",
    "    nums = list(map(int,file.readlines()))\n",
    "adapters = sorted(nums)\n",
    "\n",
    "\n",
    "d = {0:1}\n",
    "\n",
    "for adapter in adapters:\n",
    "    d[adapter] = 0\n",
    "\n",
    "    if adapter - 1 in d:\n",
    "        d[adapter] += d[adapter - 1] \n",
    "\n",
    "    if adapter - 2 in d:\n",
    "        d[adapter] += d[adapter - 2] \n",
    "\n",
    "    if adapter - 3 in d:\n",
    "        d[adapter] += d[adapter - 3] \n",
    "\n",
    "print(d)"
   ]
  },
  {
   "cell_type": "code",
   "execution_count": null,
   "id": "26b915d8",
   "metadata": {},
   "outputs": [],
   "source": [
    "d = {0:1}\n",
    "\n",
    "for line in lines:\n",
    "    d[line] = 0\n",
    "\n",
    "    if line -1 in d:\n",
    "        d[line] \n",
    "    \n",
    "    if line -3 in d:\n",
    "        d[line] "
   ]
  }
 ],
 "metadata": {
  "interpreter": {
   "hash": "aee8b7b246df8f9039afb4144a1f6fd8d2ca17a180786b69acc140d282b71a49"
  },
  "kernelspec": {
   "display_name": "Python 3 (ipykernel)",
   "language": "python",
   "name": "python3"
  },
  "language_info": {
   "codemirror_mode": {
    "name": "ipython",
    "version": 3
   },
   "file_extension": ".py",
   "mimetype": "text/x-python",
   "name": "python",
   "nbconvert_exporter": "python",
   "pygments_lexer": "ipython3",
   "version": "3.9.4"
  }
 },
 "nbformat": 4,
 "nbformat_minor": 5
}
