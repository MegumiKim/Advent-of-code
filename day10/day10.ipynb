{
 "cells": [
  {
   "cell_type": "code",
   "execution_count": 33,
   "id": "4f8f98c6",
   "metadata": {},
   "outputs": [
    {
     "name": "stdout",
     "output_type": "stream",
     "text": [
      "[1, 2, 3, 4, 7, 8, 9, 10, 11, 14, 17, 18, 19, 20, 23, 24, 25, 28, 31, 32, 33, 34, 35, 38, 39, 42, 45, 46, 47, 48, 49]\n"
     ]
    }
   ],
   "source": [
    "with open ('input copy 2') as file:\n",
    "    nums = list(map(int,file.readlines()))\n",
    "nums = sorted(nums)\n",
    "print(nums)"
   ]
  },
  {
   "cell_type": "code",
   "execution_count": 20,
   "id": "a4e45b48",
   "metadata": {},
   "outputs": [
    {
     "name": "stdout",
     "output_type": "stream",
     "text": [
      "Part1: 220\n"
     ]
    }
   ],
   "source": [
    "# Part1:\n",
    "    \n",
    "def count_jolts(nums):\n",
    "    \n",
    "    one_jolts = 1\n",
    "    three_jolts = 1\n",
    "    \n",
    "    for i in range(len(nums)-1):\n",
    "        jolts_diff = nums[i+1]-nums[i]\n",
    "        \n",
    "        if jolts_diff == 1:\n",
    "            one_jolts += 1\n",
    "        elif jolts_diff == 3:\n",
    "            three_jolts += 1\n",
    "    \n",
    "    return one_jolts * three_jolts\n",
    "\n",
    "print(\"Part1:\", count_jolts(nums))"
   ]
  },
  {
   "cell_type": "code",
   "execution_count": 21,
   "id": "19297658",
   "metadata": {},
   "outputs": [
    {
     "name": "stdout",
     "output_type": "stream",
     "text": [
      "406\n"
     ]
    }
   ],
   "source": [
    "def count_options(start, nums):\n",
    "    \n",
    "    count = 0\n",
    "    \n",
    "    for n in range(start+1, len(nums)-1):\n",
    "        \n",
    "        jolts_diff = nums[n+1]-nums[n]\n",
    "        \n",
    "        if jolts_diff <= 3:\n",
    "            count += 1\n",
    "\n",
    "        else: \n",
    "            break\n",
    "    return count\n",
    "\n",
    "\n",
    "def count_total_options(nums):\n",
    "    \n",
    "    total_options = 0\n",
    "    \n",
    "    for i in range(1, len(nums)-1):\n",
    "        total_options += count_options(i, nums)\n",
    "\n",
    "    return total_options\n",
    "\n",
    "print(count_total_options(nums))"
   ]
  },
  {
   "cell_type": "code",
   "execution_count": 32,
   "id": "6a33a139",
   "metadata": {},
   "outputs": [
    {
     "name": "stdout",
     "output_type": "stream",
     "text": [
      "10976\n"
     ]
    }
   ],
   "source": [
    "\n",
    "def count_arrangements(adapters, start):\n",
    "\n",
    "    count = 1\n",
    "    for i in range(start, len(adapters)-1):\n",
    "\n",
    "        diff = adapters[i+1] - adapters[i-1] \n",
    "\n",
    "        if diff <= 3:\n",
    "            new_adapters = adapters[:i] + adapters[i+1:]\n",
    "            count += count_arrangements(new_adapters, i)\n",
    "\n",
    "    return count\n",
    "\n",
    "print (count_arrangements(nums, 1))"
   ]
  },
  {
   "cell_type": "code",
   "execution_count": null,
   "id": "89dfe7a1",
   "metadata": {},
   "outputs": [],
   "source": []
  }
 ],
 "metadata": {
  "interpreter": {
   "hash": "aee8b7b246df8f9039afb4144a1f6fd8d2ca17a180786b69acc140d282b71a49"
  },
  "kernelspec": {
   "display_name": "Python 3 (ipykernel)",
   "language": "python",
   "name": "python3"
  },
  "language_info": {
   "codemirror_mode": {
    "name": "ipython",
    "version": 3
   },
   "file_extension": ".py",
   "mimetype": "text/x-python",
   "name": "python",
   "nbconvert_exporter": "python",
   "pygments_lexer": "ipython3",
   "version": "3.9.4"
  }
 },
 "nbformat": 4,
 "nbformat_minor": 5
}
