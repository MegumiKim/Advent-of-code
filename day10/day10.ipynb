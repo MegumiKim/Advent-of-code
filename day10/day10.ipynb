{
 "cells": [
  {
   "cell_type": "code",
   "execution_count": 82,
   "id": "4f8f98c6",
   "metadata": {},
   "outputs": [
    {
     "name": "stdout",
     "output_type": "stream",
     "text": [
      "[1, 4, 5, 6, 7, 10, 11, 12, 15, 16, 19]\n"
     ]
    }
   ],
   "source": [
    "with open ('input copy') as file:\n",
    "    nums = list(map(int,file.readlines()))\n",
    "lines = sorted(nums)\n",
    "print(lines)"
   ]
  },
  {
   "cell_type": "code",
   "execution_count": 56,
   "id": "a4e45b48",
   "metadata": {},
   "outputs": [
    {
     "name": "stdout",
     "output_type": "stream",
     "text": [
      "Part1: 220\n"
     ]
    }
   ],
   "source": [
    "# Part1:\n",
    "    \n",
    "def count_jolts(nums):\n",
    "    \n",
    "    one_jolts = 1\n",
    "    three_jolts = 1\n",
    "    \n",
    "    for i in range(len(nums)-1):\n",
    "        jolts_diff = nums[i+1]-nums[i]\n",
    "        \n",
    "        if jolts_diff == 1:\n",
    "            one_jolts += 1\n",
    "        elif jolts_diff == 3:\n",
    "            three_jolts += 1\n",
    "    \n",
    "    return one_jolts * three_jolts\n",
    "\n",
    "print(\"Part1:\", count_jolts(nums))"
   ]
  },
  {
   "cell_type": "code",
   "execution_count": 57,
   "id": "5f6fc3d2",
   "metadata": {},
   "outputs": [
    {
     "name": "stdout",
     "output_type": "stream",
     "text": [
      "10976\n"
     ]
    }
   ],
   "source": [
    "\n",
    "def count_arrangements(adapters, start):\n",
    "\n",
    "    count = 1\n",
    "    for i in range(start, len(adapters)-1):\n",
    "\n",
    "        diff = adapters[i+1] - adapters[i-1] \n",
    "\n",
    "        if diff <= 3:\n",
    "            new_adapters = adapters[:i] + adapters[i+1:]\n",
    "            count += count_arrangements(new_adapters, i)\n",
    "\n",
    "    return count\n",
    "\n",
    "\n",
    "print (count_arrangements(nums, 1))"
   ]
  },
  {
   "cell_type": "code",
   "execution_count": null,
   "id": "69a6f7c2",
   "metadata": {},
   "outputs": [
    {
     "name": "stdout",
     "output_type": "stream",
     "text": [
      "[1, 2, 3, 6, 7, 8, 9, 12, 13, 14, 15, 16, 19, 20, 21, 22, 23, 26, 27, 28, 29, 30, 33, 34, 35, 38, 39, 40, 41, 42, 45, 46, 47, 48, 49, 52, 53, 54, 57, 60, 61, 62, 63, 64, 67, 70, 71, 74, 77, 78, 79, 80, 83, 84, 85, 86, 87, 90, 91, 92, 93, 94, 97, 98, 101, 102, 105, 106, 107, 108, 111, 112, 113, 114, 115, 118, 121, 124, 125, 126, 127, 130, 131, 132, 133, 134, 137, 140, 141, 142, 145, 146, 147, 148, 151, 154, 155, 158, 159, 160, 161, 162, 165, 166, 167, 168, 169]\n"
     ]
    }
   ],
   "source": [
    "def count_arrangements(start, adapters, count=0):\n",
    "    \n",
    "    if len(adapters) == 0:\n",
    "        count += 1\n",
    "#     print(count, start, adapters)\n",
    "    for adapter in adapters:\n",
    "        if adapter - start <= 3:\n",
    "            index = adapters.index(adapter)\n",
    "            count += count_arrangements(adapter, adapters[index+1:])\n",
    "        else:\n",
    "            break\n",
    "    return count\n",
    "\n",
    "with open ('input') as file:\n",
    "    nums = list(map(int,file.readlines()))\n",
    "lines = sorted(nums)\n",
    "\n",
    "print(lines)\n",
    "print(count_arrangements(0, lines))\n"
   ]
  },
  {
   "cell_type": "code",
   "execution_count": null,
   "id": "ed5658b1",
   "metadata": {},
   "outputs": [],
   "source": []
  }
 ],
 "metadata": {
  "interpreter": {
   "hash": "aee8b7b246df8f9039afb4144a1f6fd8d2ca17a180786b69acc140d282b71a49"
  },
  "kernelspec": {
   "display_name": "Python 3 (ipykernel)",
   "language": "python",
   "name": "python3"
  },
  "language_info": {
   "codemirror_mode": {
    "name": "ipython",
    "version": 3
   },
   "file_extension": ".py",
   "mimetype": "text/x-python",
   "name": "python",
   "nbconvert_exporter": "python",
   "pygments_lexer": "ipython3",
   "version": "3.9.4"
  }
 },
 "nbformat": 4,
 "nbformat_minor": 5
}
