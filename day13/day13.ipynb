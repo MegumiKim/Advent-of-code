{
 "cells": [
  {
   "cell_type": "code",
   "execution_count": 52,
   "id": "5efa1597",
   "metadata": {},
   "outputs": [
    {
     "name": "stdout",
     "output_type": "stream",
     "text": [
      "Part1: 207\n"
     ]
    }
   ],
   "source": [
    "# Part1:\n",
    "\n",
    "def time_table(timestamp, IDs):\n",
    "\n",
    "    waiting_times = {}\n",
    "\n",
    "    for ID in IDs:\n",
    "        if ID == \"x\":\n",
    "            pass\n",
    "        \n",
    "        else:\n",
    "            ID = int(ID)\n",
    "            missed_by = timestamp % ID\n",
    "    \n",
    "            waiting_time = ID - missed_by\n",
    "            waiting_times[waiting_time] = ID\n",
    "    \n",
    "    minimum_waiting = min(waiting_times)\n",
    "    next_bus = waiting_times[minimum_waiting]\n",
    "    \n",
    "    return int(next_bus)*int(minimum_waiting)\n",
    "    \n",
    "\n",
    "with open('input') as file:\n",
    "    note = file.read().splitlines()\n",
    "    \n",
    "timestamp, IDs = int(note[0]), note[1].split(\",\")\n",
    "    \n",
    "    \n",
    "print(\"Part1:\", time_table(timestamp, IDs))"
   ]
  },
  {
   "cell_type": "code",
   "execution_count": 69,
   "id": "bbd525b2",
   "metadata": {},
   "outputs": [
    {
     "data": {
      "text/plain": [
       "16"
      ]
     },
     "execution_count": 69,
     "metadata": {},
     "output_type": "execute_result"
    }
   ],
   "source": [
    "3417%19"
   ]
  },
  {
   "cell_type": "code",
   "execution_count": 136,
   "id": "35cb4578",
   "metadata": {},
   "outputs": [
    {
     "name": "stdout",
     "output_type": "stream",
     "text": [
      "{17: 0, 37: 11, 409: 17, 29: 19, 13: 30, 23: 40, 373: 48, 41: 58, 19: 67}\n",
      "[409, 373, 41, 37, 29, 23, 19, 17, 13]\n",
      "1000000\n"
     ]
    },
    {
     "ename": "KeyboardInterrupt",
     "evalue": "",
     "output_type": "error",
     "traceback": [
      "\u001b[0;31m---------------------------------------------------------------------------\u001b[0m",
      "\u001b[0;31mKeyboardInterrupt\u001b[0m                         Traceback (most recent call last)",
      "\u001b[0;32m<ipython-input-136-bffb0090dd56>\u001b[0m in \u001b[0;36m<module>\u001b[0;34m\u001b[0m\n\u001b[1;32m     24\u001b[0m     \u001b[0mwrong\u001b[0m \u001b[0;34m=\u001b[0m \u001b[0;32mFalse\u001b[0m\u001b[0;34m\u001b[0m\u001b[0;34m\u001b[0m\u001b[0m\n\u001b[1;32m     25\u001b[0m     \u001b[0;32mfor\u001b[0m \u001b[0mbus_id\u001b[0m \u001b[0;32min\u001b[0m \u001b[0mbus_ids\u001b[0m\u001b[0;34m[\u001b[0m\u001b[0;36m1\u001b[0m\u001b[0;34m:\u001b[0m\u001b[0;34m]\u001b[0m\u001b[0;34m:\u001b[0m\u001b[0;34m\u001b[0m\u001b[0;34m\u001b[0m\u001b[0m\n\u001b[0;32m---> 26\u001b[0;31m         \u001b[0;32mif\u001b[0m \u001b[0;34m(\u001b[0m\u001b[0mtime\u001b[0m \u001b[0;34m+\u001b[0m \u001b[0moffsets\u001b[0m\u001b[0;34m[\u001b[0m\u001b[0mbus_id\u001b[0m\u001b[0;34m]\u001b[0m\u001b[0;34m)\u001b[0m \u001b[0;34m%\u001b[0m \u001b[0mbus_id\u001b[0m \u001b[0;34m!=\u001b[0m \u001b[0;36m0\u001b[0m\u001b[0;34m:\u001b[0m\u001b[0;34m\u001b[0m\u001b[0;34m\u001b[0m\u001b[0m\n\u001b[0m\u001b[1;32m     27\u001b[0m             \u001b[0mwrong\u001b[0m \u001b[0;34m=\u001b[0m \u001b[0;32mTrue\u001b[0m\u001b[0;34m\u001b[0m\u001b[0;34m\u001b[0m\u001b[0m\n\u001b[1;32m     28\u001b[0m             \u001b[0;32mbreak\u001b[0m\u001b[0;34m\u001b[0m\u001b[0;34m\u001b[0m\u001b[0m\n",
      "\u001b[0;31mKeyboardInterrupt\u001b[0m: "
     ]
    }
   ],
   "source": [
    "\n",
    "with open('input') as file:\n",
    "    note = file.read().splitlines()\n",
    "\n",
    "ids = note[1].split(\",\")\n",
    "\n",
    "\n",
    "offsets = {}\n",
    "for n, i in enumerate(ids):\n",
    "    if i != 'x':\n",
    "        offsets[int(i)] = n\n",
    "\n",
    "# del offsets['x']\n",
    "print (offsets)\n",
    "\n",
    "bus_ids = sorted(offsets, reverse=True)\n",
    "print(bus_ids)\n",
    "\n",
    "slowest_bus = bus_ids[0]\n",
    "\n",
    "i=1\n",
    "\n",
    "while True:\n",
    "    time = slowest_bus * i - offsets[slowest_bus]\n",
    "    wrong = False\n",
    "    for bus_id in bus_ids[1:]:\n",
    "        if (time + offsets[bus_id]) % bus_id != 0:\n",
    "            wrong = True\n",
    "            break\n",
    "#     print (time)\n",
    "    if i % 1000000 == 0:\n",
    "        print(i)\n",
    "    if not wrong:\n",
    "        break\n",
    "    i += 1\n",
    "\n",
    "print (time)\n",
    "    \n",
    "# for n, ID in enumerate(IDs):\n",
    "#     timestamp = 0\n",
    "    \n",
    "#     if ID != 'x':\n",
    "#         while timestamp < 3417:\n",
    "#             timestamp += ID\n",
    "#             print(timestamp, timestamp - n)   \n",
    "#         print('\\n')\n",
    "        \n",
    "        \n",
    "    "
   ]
  },
  {
   "cell_type": "code",
   "execution_count": null,
   "id": "70fb55ca",
   "metadata": {},
   "outputs": [],
   "source": []
  },
  {
   "cell_type": "code",
   "execution_count": null,
   "id": "fe6931d5",
   "metadata": {},
   "outputs": [],
   "source": []
  }
 ],
 "metadata": {
  "kernelspec": {
   "display_name": "Python 3 (ipykernel)",
   "language": "python",
   "name": "python3"
  },
  "language_info": {
   "codemirror_mode": {
    "name": "ipython",
    "version": 3
   },
   "file_extension": ".py",
   "mimetype": "text/x-python",
   "name": "python",
   "nbconvert_exporter": "python",
   "pygments_lexer": "ipython3",
   "version": "3.9.4"
  }
 },
 "nbformat": 4,
 "nbformat_minor": 5
}
