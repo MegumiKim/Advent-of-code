{
 "cells": [
  {
   "cell_type": "code",
   "execution_count": 23,
   "id": "ce3aad86",
   "metadata": {},
   "outputs": [
    {
     "name": "stdout",
     "output_type": "stream",
     "text": [
      "Part1: 207\n"
     ]
    }
   ],
   "source": [
    "# Part1:\n",
    "\n",
    "def time_table(timestamp, busses):\n",
    "\n",
    "    waiting_times = {}\n",
    "\n",
    "    for bus in busses:\n",
    "        if bus == \"x\":\n",
    "            pass\n",
    "        \n",
    "        else:\n",
    "            bus = int(bus)\n",
    "            missed_by = timestamp % bus\n",
    "    \n",
    "            waiting_time = bus - missed_by\n",
    "            waiting_times[bus] = waiting_time\n",
    "            waiting_times[waiting_time] = bus\n",
    "    \n",
    "    minimum_waiting = min(waiting_times)\n",
    "    next_bus = waiting_times[minimum_waiting]\n",
    "    \n",
    "    return int(next_bus)*int(minimum_waiting)\n",
    "    \n",
    "\n",
    "with open('input') as file:\n",
    "    note = file.read().splitlines()\n",
    "    \n",
    "timestamp, busses = int(note[0]), note[1].split(\",\")\n",
    "    \n",
    "    \n",
    "print(\"Part1:\", time_table(timestamp, busses))"
   ]
  },
  {
   "cell_type": "code",
   "execution_count": 118,
   "id": "b0033391",
   "metadata": {},
   "outputs": [
    {
     "name": "stdout",
     "output_type": "stream",
     "text": [
      "{7: 0, 13: 12, 59: 55, 31: 25, 19: 12}\n",
      "i: 7\n",
      "13 time: 0\n",
      "13 time: 7\n",
      "13 time: 14\n",
      "13 time: 21\n",
      "13 time: 28\n",
      "13 time: 35\n",
      "13 time: 42\n",
      "13 time: 49\n",
      "13 time: 56\n",
      "13 time: 63\n",
      "13 time: 70\n",
      "i: 91\n",
      "59 time: 77\n",
      "59 time: 168\n",
      "59 time: 259\n",
      "i: 5369\n",
      "31 time: 350\n",
      "31 time: 5719\n",
      "31 time: 11088\n",
      "31 time: 16457\n",
      "31 time: 21826\n",
      "31 time: 27195\n",
      "31 time: 32564\n",
      "31 time: 37933\n",
      "31 time: 43302\n",
      "31 time: 48671\n",
      "31 time: 54040\n",
      "31 time: 59409\n",
      "31 time: 64778\n",
      "i: 166439\n",
      "19 time: 70147\n",
      "19 time: 236586\n",
      "19 time: 403025\n",
      "19 time: 569464\n",
      "19 time: 735903\n",
      "19 time: 902342\n",
      "i: 3162341\n",
      "Part 2: 1068781\n"
     ]
    }
   ],
   "source": [
    "with open('input copy') as file:\n",
    "    note = file.read().splitlines()\n",
    "\n",
    "busses = note[1].split(\",\")\n",
    "\n",
    "offsets = {}\n",
    "for n, bus in enumerate(busses):\n",
    "    if bus != 'x':\n",
    "        bus = int(bus)\n",
    "        offsets[bus] = -n%bus\n",
    "print(offsets)\n",
    "\n",
    "time = 0\n",
    "i = 1\n",
    "for bus in offsets:\n",
    "    \n",
    "    while time % bus != offsets[bus]:\n",
    "        print(bus, 'time:', time)\n",
    "        time +=i\n",
    "    i *= bus\n",
    "    print('i:',i)\n",
    "\n",
    "print('Part 2:', time)"
   ]
  },
  {
   "cell_type": "code",
   "execution_count": 121,
   "id": "1a182e77",
   "metadata": {},
   "outputs": [
    {
     "name": "stdout",
     "output_type": "stream",
     "text": [
      "7\n",
      "91\n",
      "5369\n",
      "166439\n",
      "3162341\n",
      "Part 2: 0\n"
     ]
    }
   ],
   "source": [
    "with open('input copy') as file:\n",
    "    note = file.read().splitlines()\n",
    "\n",
    "busses = note[1].split(\",\")\n",
    "\n",
    "offsets = {}\n",
    "for n, bus in enumerate(busses):\n",
    "    if bus != 'x':\n",
    "        bus = int(bus)\n",
    "        offsets[bus] = -n%bus\n",
    "\n",
    "time = 0\n",
    "i = 1\n",
    "for bus in offsets:\n",
    "    i *= bus   \n",
    "\n",
    "    while time % bus != offsets[bus]:\n",
    "        time +=i\n",
    "\n",
    "\n",
    "print('Part 2:', time)"
   ]
  },
  {
   "cell_type": "code",
   "execution_count": null,
   "id": "9f7654f8",
   "metadata": {},
   "outputs": [],
   "source": [
    "\n",
    "# with open('input copy') as file:\n",
    "#     note = file.read().splitlines()\n",
    "\n",
    "# ids = note[1].split(\",\")\n",
    "\n",
    "\n",
    "# offsets = {}\n",
    "# for n, i in enumerate(ids):\n",
    "#     if i != 'x':\n",
    "#         offsets[int(i)] = n\n",
    "\n",
    "# # del offsets['x']\n",
    "# print (offsets)\n",
    "\n",
    "# bus_ids = sorted(offsets, reverse=True)\n",
    "# print(bus_ids)\n",
    "\n",
    "# slowest_bus = bus_ids[0]\n",
    "\n",
    "# i=1\n",
    "\n",
    "# while True:\n",
    "#     time = slowest_bus * i - offsets[slowest_bus]\n",
    "#     wrong = False\n",
    "#     for bus_id in bus_ids[1:]:\n",
    "#         if (time + offsets[bus_id]) % bus_id != 0:\n",
    "#             wrong = True\n",
    "#             break\n",
    "# #     print (time)\n",
    "#     if i % 1000000 == 0:\n",
    "#         print(i)\n",
    "#     if not wrong:\n",
    "#         break\n",
    "#     i += 1\n",
    "\n",
    "# print (time)\n",
    "       "
   ]
  }
 ],
 "metadata": {
  "interpreter": {
   "hash": "aee8b7b246df8f9039afb4144a1f6fd8d2ca17a180786b69acc140d282b71a49"
  },
  "kernelspec": {
   "display_name": "Python 3 (ipykernel)",
   "language": "python",
   "name": "python3"
  },
  "language_info": {
   "codemirror_mode": {
    "name": "ipython",
    "version": 3
   },
   "file_extension": ".py",
   "mimetype": "text/x-python",
   "name": "python",
   "nbconvert_exporter": "python",
   "pygments_lexer": "ipython3",
   "version": "3.9.4"
  }
 },
 "nbformat": 4,
 "nbformat_minor": 5
}
