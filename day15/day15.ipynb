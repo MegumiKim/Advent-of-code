{
 "cells": [
  {
   "cell_type": "code",
   "execution_count": 20,
   "source": [
    "spoken_nums = [5,1,9,18,13,8,0]\n",
    "\n",
    "while len(spoken_nums) < 40000:\n",
    "    last_spoken = spoken_nums[-1]\n",
    "\n",
    "    if last_spoken not in spoken_nums[:-1]:\n",
    "        spoken_nums.append(0)\n",
    "\n",
    "    else:\n",
    "        last_turn = spoken_nums.index(last_spoken)+1\n",
    "        rev_list = spoken_nums[:-1]\n",
    "        rev_list.reverse()\n",
    "        last_before_last_index = len(rev_list) - rev_list.index(last_spoken) - 1\n",
    "        \n",
    "        age = len(spoken_nums) - 1 - last_before_last_index\n",
    "        spoken_nums.append(age)\n",
    "\n",
    "max(spoken_nums)"
   ],
   "outputs": [
    {
     "output_type": "execute_result",
     "data": {
      "text/plain": [
       "37391"
      ]
     },
     "metadata": {},
     "execution_count": 20
    }
   ],
   "metadata": {}
  },
  {
   "cell_type": "code",
   "execution_count": 44,
   "source": [
    "spoken_nums = [5,1,9,18,13,8,0]\n",
    "ls_index = {num: ind + 1 for ind, num in enumerate(spoken_nums[:-1])}\n",
    "ls = spoken_nums[-1]\n",
    "\n",
    "turn = len(spoken_nums)\n",
    "\n",
    "while turn < 30000000:\n",
    "    if ls not in ls_index:\n",
    "        ls_index[ls] = turn \n",
    "        ls = 0\n",
    "    else:\n",
    "        diff = turn - ls_index[ls]\n",
    "        ls_index[ls] = turn\n",
    "        ls = diff\n",
    "    turn+=1\n",
    "\n",
    "print(\"ls\", ls)"
   ],
   "outputs": [
    {
     "output_type": "stream",
     "name": "stdout",
     "text": [
      "ls 323780\n"
     ]
    }
   ],
   "metadata": {}
  }
 ],
 "metadata": {
  "kernelspec": {
   "name": "python3",
   "display_name": "Python 3.9.4 64-bit"
  },
  "language_info": {
   "codemirror_mode": {
    "name": "ipython",
    "version": 3
   },
   "file_extension": ".py",
   "mimetype": "text/x-python",
   "name": "python",
   "nbconvert_exporter": "python",
   "pygments_lexer": "ipython3",
   "version": "3.9.4"
  },
  "interpreter": {
   "hash": "aee8b7b246df8f9039afb4144a1f6fd8d2ca17a180786b69acc140d282b71a49"
  }
 },
 "nbformat": 4,
 "nbformat_minor": 5
}