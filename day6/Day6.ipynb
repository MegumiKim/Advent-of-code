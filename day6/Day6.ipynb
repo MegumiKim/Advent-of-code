{
 "cells": [
  {
   "cell_type": "code",
   "execution_count": 79,
   "id": "f7d0129e",
   "metadata": {},
   "outputs": [
    {
     "name": "stdout",
     "output_type": "stream",
     "text": [
      "Part 1: 6587\n"
     ]
    }
   ],
   "source": [
    "#Part 1...set union\n",
    "\n",
    "with open(\"input\") as f:\n",
    "    lines = f.read().split(\"\\n\\n\")\n",
    "    \n",
    "lines = [line.splitlines() for line in lines]\n",
    "\n",
    "\n",
    "def count_union_answers(line):\n",
    "    union_answers = set(line[0]).union(*set(line[1:]))\n",
    "    \n",
    "    return len(union_answers)\n",
    "\n",
    "\n",
    "def total_counts(groups):\n",
    "    total_counts = 0\n",
    "    \n",
    "    for group in groups:\n",
    "        total_counts += count_union_answers(group)\n",
    "        \n",
    "    return total_counts\n",
    "\n",
    "\n",
    "print(\"Part 1:\", total_counts(lines))"
   ]
  },
  {
   "cell_type": "code",
   "execution_count": 80,
   "id": "2c75bdc1",
   "metadata": {},
   "outputs": [
    {
     "name": "stdout",
     "output_type": "stream",
     "text": [
      "Part 2: 3235\n"
     ]
    }
   ],
   "source": [
    "#Part 2...intersection\n",
    "\n",
    "def count_intersect_answers(line):\n",
    "    intersect_answers = set(line[0]).intersection(*set(line[1:]))\n",
    "    \n",
    "    return len(intersect_answers)\n",
    "\n",
    "\n",
    "def total_counts_2(groups):\n",
    "    total_counts_2 = 0\n",
    "    \n",
    "    for group in groups:\n",
    "        total_counts_2 += count_intersect_answers(group)\n",
    "        \n",
    "    return total_counts_2\n",
    "\n",
    "\n",
    "print(\"Part 2:\", total_counts_2(lines))"
   ]
  }
 ],
 "metadata": {
  "kernelspec": {
   "display_name": "Python 3",
   "language": "python",
   "name": "python3"
  },
  "language_info": {
   "codemirror_mode": {
    "name": "ipython",
    "version": 3
   },
   "file_extension": ".py",
   "mimetype": "text/x-python",
   "name": "python",
   "nbconvert_exporter": "python",
   "pygments_lexer": "ipython3",
   "version": "3.9.4"
  }
 },
 "nbformat": 4,
 "nbformat_minor": 5
}
