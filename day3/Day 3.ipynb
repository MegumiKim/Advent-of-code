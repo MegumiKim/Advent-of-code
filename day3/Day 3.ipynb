{
 "cells": [
  {
   "cell_type": "code",
   "execution_count": 1,
   "id": "c27ff2f4",
   "metadata": {},
   "outputs": [
    {
     "name": "stdout",
     "output_type": "stream",
     "text": [
      "Number of trees: 278\n"
     ]
    }
   ],
   "source": [
    "# Part 1\n",
    "\n",
    "with open(\"input\") as f:\n",
    "    lines = f.read().splitlines() \n",
    "\n",
    "number_of_trees = 0   \n",
    "x = 0 # horizontal cordinate\n",
    "y = 0 # vertical cordinate\n",
    "\n",
    "while y < len(lines) - 1:\n",
    "    x = (x+3)%(len(lines[0]))\n",
    "    y += 1\n",
    "          \n",
    "    if lines[y][x]==\"#\":    \n",
    "        number_of_trees +=1\n",
    "\n",
    "\n",
    "print (\"Number of trees:\", number_of_trees)"
   ]
  },
  {
   "cell_type": "code",
   "execution_count": 86,
   "id": "ca3572a6",
   "metadata": {},
   "outputs": [
    {
     "name": "stdout",
     "output_type": "stream",
     "text": [
      "9709761600\n"
     ]
    }
   ],
   "source": [
    "# Part 2\n",
    "\n",
    "with open(\"input\") as f:\n",
    "    lines = f.read().splitlines() \n",
    "\n",
    "def tree_counter(right,down):\n",
    "    number_of_trees = 0   \n",
    "    x = 0 # horizontal cordinate\n",
    "    y = 0 # vertical cordinate\n",
    "\n",
    "    while y < len(lines) - 1:\n",
    "        x = (x+right)%(len(lines[0]))\n",
    "        y += down\n",
    "\n",
    "        if lines[y][x]==\"#\":    \n",
    "            number_of_trees +=1\n",
    "    \n",
    "    return number_of_trees\n",
    "        \n",
    "print (tree_counter(1,1)*tree_counter(3,1)*tree_counter(5,1)*tree_counter(7,1)*tree_counter(1,2))"
   ]
  }
 ],
 "metadata": {
  "kernelspec": {
   "display_name": "Python 3",
   "language": "python",
   "name": "python3"
  },
  "language_info": {
   "codemirror_mode": {
    "name": "ipython",
    "version": 3
   },
   "file_extension": ".py",
   "mimetype": "text/x-python",
   "name": "python",
   "nbconvert_exporter": "python",
   "pygments_lexer": "ipython3",
   "version": "3.9.4"
  }
 },
 "nbformat": 4,
 "nbformat_minor": 5
}
