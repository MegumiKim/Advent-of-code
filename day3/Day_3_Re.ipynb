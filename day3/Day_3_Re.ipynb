{
 "cells": [
  {
   "cell_type": "code",
   "execution_count": 53,
   "id": "02554325",
   "metadata": {},
   "outputs": [
    {
     "name": "stdout",
     "output_type": "stream",
     "text": [
      "Part1: 278\n"
     ]
    }
   ],
   "source": [
    "# Part 1: \n",
    "# Starting at the top-left corner of your map \n",
    "# and following a slope of right 3 and down 1, \n",
    "# how many trees would you encounter?\n",
    "\n",
    "with open('input') as file:\n",
    "    lines = file.read().splitlines()\n",
    "\n",
    "    tree_counts = 0 \n",
    "y = 0 #vertical cordinate\n",
    "x = 0 #horizontal cordinate\n",
    "\n",
    "while y < len(lines)-1:\n",
    "    x = (x+3)%(len(lines[0]))\n",
    "    y += 1  \n",
    "        \n",
    "    if lines[y][x] == \"#\":\n",
    "        tree_counts +=1\n",
    "\n",
    "print(\"Part1:\", tree_counts)     "
   ]
  },
  {
   "cell_type": "code",
   "execution_count": 58,
   "id": "d51c4bae",
   "metadata": {},
   "outputs": [
    {
     "name": "stdout",
     "output_type": "stream",
     "text": [
      "Part2: 9709761600\n"
     ]
    }
   ],
   "source": [
    "# Part 2:\n",
    "# What do you get if you multiply together the number \n",
    "# of trees encountered on each of the listed slopes?\n",
    "\n",
    "def slopes(right,down):\n",
    "    tree_counts = 0 \n",
    "    y = 0 #vertical cordinate\n",
    "    x = 0 #horizontal cordinate\n",
    "\n",
    "    while y < len(lines)-1:\n",
    "        x = (x+right)%(len(lines[0]))\n",
    "        y += down  \n",
    "\n",
    "        if lines[y][x] == \"#\":\n",
    "            tree_counts +=1\n",
    "            \n",
    "    return tree_counts\n",
    "    \n",
    "print(\"Part2:\", slopes(1,1)*slopes(3,1)*slopes(5,1)*slopes(7,1)*slopes(1,2))"
   ]
  }
 ],
 "metadata": {
  "kernelspec": {
   "display_name": "Python 3",
   "language": "python",
   "name": "python3"
  },
  "language_info": {
   "codemirror_mode": {
    "name": "ipython",
    "version": 3
   },
   "file_extension": ".py",
   "mimetype": "text/x-python",
   "name": "python",
   "nbconvert_exporter": "python",
   "pygments_lexer": "ipython3",
   "version": "3.9.4"
  }
 },
 "nbformat": 4,
 "nbformat_minor": 5
}
