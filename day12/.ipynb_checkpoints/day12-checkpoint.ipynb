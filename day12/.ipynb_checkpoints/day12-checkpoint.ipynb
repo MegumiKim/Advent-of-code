{
 "cells": [
  {
   "cell_type": "code",
   "execution_count": 2,
   "id": "2f0dec84",
   "metadata": {},
   "outputs": [
    {
     "name": "stdout",
     "output_type": "stream",
     "text": [
      "420\n"
     ]
    }
   ],
   "source": [
    "# Part 1\n",
    "\n",
    "def navigation(lines):\n",
    "    \n",
    "    x = 0 # east+/west-\n",
    "    y = 0 # north+/south-\n",
    "\n",
    "    current_direction = 90\n",
    "       \n",
    "    for direction, units in lines:\n",
    "        \n",
    "        current_direction = current_direction % 360\n",
    "        \n",
    "        if direction == \"L\":\n",
    "            current_direction -= units\n",
    "        \n",
    "        if direction == \"R\":\n",
    "            current_direction += units\n",
    "\n",
    "        if direction == \"N\":\n",
    "            y += units\n",
    "\n",
    "        if direction == \"S\":\n",
    "            y -= units\n",
    "            \n",
    "        if direction == \"E\":\n",
    "            x += units\n",
    "            \n",
    "        if direction == \"W\":\n",
    "            x -= units\n",
    "            \n",
    "        if direction == \"F\":\n",
    "            if current_direction == 0:\n",
    "                y += units\n",
    "            elif current_direction == 90:\n",
    "                x += units\n",
    "            elif current_direction == 180:\n",
    "                y -= units\n",
    "            elif current_direction == 270:\n",
    "                x -= units\n",
    "#         print (direction, units, x, y)\n",
    "\n",
    "    manhattan_distance = abs(x)+abs(y)\n",
    "    return manhattan_distance\n",
    "\n",
    "with open(\"input\") as file:\n",
    "    lines = file.read().splitlines()\n",
    "    \n",
    "lines = [(line[0],int(line[1:])) for line in lines]\n",
    "\n",
    "print(navigation(lines))"
   ]
  },
  {
   "cell_type": "code",
   "execution_count": 10,
   "id": "2008f4f2",
   "metadata": {},
   "outputs": [
    {
     "name": "stdout",
     "output_type": "stream",
     "text": [
      "42073.0\n"
     ]
    }
   ],
   "source": [
    "# Part 2\n",
    "from math import pi, cos, sin\n",
    "\n",
    "def navigation_2(lines):\n",
    "\n",
    "    x = 0 # east+/west-\n",
    "    y = 0 # north+/south-\n",
    "    \n",
    "    w_x = 10\n",
    "    w_y = 1\n",
    "    \n",
    "    for direction, units in lines:\n",
    "        \n",
    "        if direction == \"L\" or direction == \"R\":\n",
    "            angle = units * 2.0 * pi / 360.0\n",
    "            if direction == \"R\":\n",
    "                angle = - angle\n",
    "            w_x, w_y = cos(angle) * w_x - sin(angle) * w_y, sin(angle) * w_x + cos(angle) * w_y\n",
    "\n",
    "        elif direction == \"N\":\n",
    "            w_y += units\n",
    "\n",
    "        elif direction == \"S\":\n",
    "            w_y -= units\n",
    "            \n",
    "        elif direction == \"E\":\n",
    "            w_x += units\n",
    "            \n",
    "        elif direction == \"W\":\n",
    "            w_x -= units\n",
    "            \n",
    "        elif direction == \"F\":\n",
    "            x += w_x*units\n",
    "            y += w_y*units\n",
    "            \n",
    "        \n",
    "    manhattan_distance = abs(x)+abs(y)\n",
    "    \n",
    "    return manhattan_distance\n",
    "\n",
    "with open(\"input\") as file:\n",
    "    lines = file.read().splitlines()\n",
    "    \n",
    "lines = [(line[0],int(line[1:])) for line in lines]\n",
    "\n",
    "print(navigation_2(lines))"
   ]
  },
  {
   "cell_type": "code",
   "execution_count": null,
   "id": "f8d32053",
   "metadata": {},
   "outputs": [],
   "source": [
    "https://matthew-brett.github.io/teaching/rotation_2d.html"
   ]
  },
  {
   "cell_type": "code",
   "execution_count": null,
   "id": "eab1eb0b",
   "metadata": {},
   "outputs": [],
   "source": [
    "#             if units == 90:\n",
    "#                 w_x, w_y = -1.0 * w_y, w_x\n",
    "                \n",
    "#             elif units == 180:\n",
    "#                 w_x, w_y = -1.0 * w_x, -1.0 * w_y\n",
    "            \n",
    "#             elif units == 270:    \n",
    "#                 w_x, w_y = w_y, -1.0 * w_x\n",
    "     \n",
    "#         if direction == \"R\":\n",
    "#             if units == 90:\n",
    "#                 w_x, w_y = w_y, -1.0 * w_x\n",
    "                \n",
    "#             elif units == 180:\n",
    "#                 w_x, w_y = -1.0 * w_x, -1.0 * w_y\n",
    "            \n",
    "#             elif units == 270:                           \n",
    "#                 w_x, w_y = -1.0 * w_y, w_x\n",
    "  "
   ]
  }
 ],
 "metadata": {
  "kernelspec": {
   "display_name": "Python 3 (ipykernel)",
   "language": "python",
   "name": "python3"
  },
  "language_info": {
   "codemirror_mode": {
    "name": "ipython",
    "version": 3
   },
   "file_extension": ".py",
   "mimetype": "text/x-python",
   "name": "python",
   "nbconvert_exporter": "python",
   "pygments_lexer": "ipython3",
   "version": "3.9.4"
  }
 },
 "nbformat": 4,
 "nbformat_minor": 5
}
