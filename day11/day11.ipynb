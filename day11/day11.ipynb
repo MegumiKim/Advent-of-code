{
 "cells": [
  {
   "cell_type": "code",
   "execution_count": 1,
   "id": "e41cfffd",
   "metadata": {},
   "outputs": [
    {
     "data": {
      "text/plain": [
       "['L.LL.LL.LL',\n",
       " 'LLLLLLL.LL',\n",
       " 'L.L.L..L..',\n",
       " 'LLLL.LL.LL',\n",
       " 'L.LL.LL.LL',\n",
       " 'L.LLLLL.LL',\n",
       " '..L.L.....',\n",
       " 'LLLLLLLLLL',\n",
       " 'L.LLLLLL.L',\n",
       " 'L.LLLLL.LL']"
      ]
     },
     "execution_count": 1,
     "metadata": {},
     "output_type": "execute_result"
    }
   ],
   "source": [
    "with open('input copy') as file:\n",
    "    lines = file.read().splitlines()\n",
    "lines"
   ]
  },
  {
   "cell_type": "code",
   "execution_count": null,
   "id": "35902d3e",
   "metadata": {},
   "outputs": [
    {
     "name": "stdout",
     "output_type": "stream",
     "text": [
      "0 1\n",
      "0 2\n",
      "0 3\n",
      "0 4\n",
      "0 5\n",
      "0 6\n",
      "0 7\n",
      "0 8\n",
      "0 9\n"
     ]
    }
   ],
   "source": [
    "x = 0 # vertical\n",
    "y = 0 # horizontal\n",
    "\n",
    "adjacents = [(1,1),(1,0),(1,-1),(0,1),(0,-1),(1,-1),(-1,0),(-1,-1)]\n",
    "\n",
    "\n",
    "while x < len(lines) - 1:\n",
    "    while y < len(lines[0]) - 1:\n",
    "\n",
    "        occupied_seats = 0\n",
    "        empty_seats = 0\n",
    "\n",
    "        for a, b in adjacents:\n",
    "            if lines[x+a][y+b] == \".\":\n",
    "                occupied_seats += 1\n",
    "\n",
    "            elif lines[x+a][y+b] == \"L\":\n",
    "                empty_seats += 1\n",
    "\n",
    "        if lines[x][y] == \"L\"\\\n",
    "            and occupied_seats == 0:\n",
    "                lines[x][y] == \".\"\n",
    "\n",
    "        else:\n",
    "            pass\n",
    "\n",
    "\n",
    "        y += 1\n",
    "        print(x,y)\n",
    "lines"
   ]
  },
  {
   "cell_type": "code",
   "execution_count": null,
   "id": "0f7db0f8",
   "metadata": {},
   "outputs": [],
   "source": [
    "\n",
    "\n",
    "adjacents = [(1,1),(1,0),(1,-1),(0,1),(0,-1),(1,-1),(-1,0),(-1,-1)]\n",
    "\n",
    "for x in range(len(lines)-1):\n",
    "    for y in range(len(lines[0])-1):\n",
    "\n",
    "        occupied_seats = 0\n",
    "        empty_seats = 0\n",
    "\n",
    "        for a, b in adjacents:\n",
    "            if lines[x+a][y+b] == \".\":\n",
    "                occupied_seats += 1\n",
    "\n",
    "            elif lines[x+a][y+b] == \"L\":\n",
    "                empty_seats += 1\n",
    "\n",
    "        if lines[x][y] == \"L\"\\\n",
    "            and occupied_seats == 0:\n",
    "                lines[x][y] == \".\"\n",
    "                print(lines[x][y])\n",
    "        else:\n",
    "            pass\n",
    "\n",
    "        y += 1\n",
    "        print(x,y)\n",
    "lines"
   ]
  },
  {
   "cell_type": "code",
   "execution_count": null,
   "id": "58afaec4",
   "metadata": {},
   "outputs": [],
   "source": []
  }
 ],
 "metadata": {
  "kernelspec": {
   "display_name": "Python 3 (ipykernel)",
   "language": "python",
   "name": "python3"
  },
  "language_info": {
   "codemirror_mode": {
    "name": "ipython",
    "version": 3
   },
   "file_extension": ".py",
   "mimetype": "text/x-python",
   "name": "python",
   "nbconvert_exporter": "python",
   "pygments_lexer": "ipython3",
   "version": "3.9.4"
  }
 },
 "nbformat": 4,
 "nbformat_minor": 5
}
