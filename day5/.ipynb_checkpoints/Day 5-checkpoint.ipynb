{
 "cells": [
  {
   "cell_type": "code",
   "execution_count": 1,
   "id": "f5584988",
   "metadata": {},
   "outputs": [
    {
     "name": "stdout",
     "output_type": "stream",
     "text": [
      "Sample seat_ID 567\n",
      "Part1: 828\n"
     ]
    }
   ],
   "source": [
    "#Part 1: What is the highest seat ID on a boarding pass?\n",
    "\n",
    "def convert_to_decimal(seat_num):\n",
    "\n",
    "    seat_num = seat_num.replace(\"B\",\"1\").replace(\"F\",\"0\")\n",
    "    seat_num = seat_num.replace(\"R\",\"1\").replace(\"L\",\"0\")\n",
    "\n",
    "    row = int(seat_num[:7],2)\n",
    "    column = int(seat_num[-3:],2)\n",
    "    seat_id = row*8 + column\n",
    "\n",
    "    return seat_id\n",
    "\n",
    "print(\"Sample seat_ID\", convert_to_decimal(\"BFFFBBFRRR\"))\n",
    "\n",
    "\n",
    "with open(\"input\") as file:\n",
    "    seat_num_list = file.read().split()\n",
    "\n",
    "seatID_list = [convert_to_decimal(num) for num in seat_num_list]\n",
    "    \n",
    "\n",
    "print(\"Part1:\", max(seatID_list))"
   ]
  },
  {
   "cell_type": "code",
   "execution_count": 13,
   "id": "f43feb9d",
   "metadata": {},
   "outputs": [
    {
     "name": "stdout",
     "output_type": "stream",
     "text": [
      "Part2: 565\n"
     ]
    }
   ],
   "source": [
    "# Part 2:\n",
    "\n",
    "def missing_ID2(seat_list):\n",
    "    \n",
    "    for seat in seat_list:\n",
    "        if seat-2 in seat_list and not seat-1 in seat_list:\n",
    "             return seat-1\n",
    "\n",
    "            \n",
    "print(\"Part2:\", missing_ID2(seatID_list))"
   ]
  }
 ],
 "metadata": {
  "kernelspec": {
   "display_name": "Python 3",
   "language": "python",
   "name": "python3"
  },
  "language_info": {
   "codemirror_mode": {
    "name": "ipython",
    "version": 3
   },
   "file_extension": ".py",
   "mimetype": "text/x-python",
   "name": "python",
   "nbconvert_exporter": "python",
   "pygments_lexer": "ipython3",
   "version": "3.9.4"
  }
 },
 "nbformat": 4,
 "nbformat_minor": 5
}
