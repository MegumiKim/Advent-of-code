{
 "cells": [
  {
   "cell_type": "code",
   "execution_count": 211,
   "id": "fc049958",
   "metadata": {},
   "outputs": [
    {
     "name": "stdout",
     "output_type": "stream",
     "text": [
      "{'pid': '827837505', 'byr': '1976', 'hgt': '187cm', 'iyr': '2016', 'hcl': '#fffffd', 'eyr': '2024'}\n",
      "228\n"
     ]
    }
   ],
   "source": [
    "#Pulling togethert\n",
    "\n",
    "\n",
    "def make_passport_dict(l):\n",
    "    return {f.split(\":\")[0]:f.split(\":\")[1] for f in l}\n",
    "\n",
    "# Version 1\n",
    "#     passport_d = {}\n",
    "# \n",
    "#     for field in l:\n",
    "#         field = field.split(\":\")\n",
    "#         passport_d[field[0]] = field[1]\n",
    "#     return passport_d\n",
    "    \n",
    "\n",
    "\n",
    "def is_valid_passport(passport):\n",
    "    fields = {\"byr\", \"iyr\", \"eyr\", \"hgt\", \"hcl\", \"ecl\", \"pid\"}\n",
    "    return fields.issubset(passport.keys())\n",
    "\n",
    "# Version 1\n",
    "#     if \"byr\" in passport:\n",
    "#         if \"iyr\" in passport:\n",
    "#             if \"eyr\" in passport:\n",
    "#                 if \"hgt\" in passport:\n",
    "#                     if \"hcl\" in passport:\n",
    "#                         if \"ecl\" in passport:\n",
    "#                             if \"pid\" in passport:\n",
    "#                                 return True\n",
    "#     return False\n",
    "\n",
    "# Version 2\n",
    "#     fields = [\"byr\", \"iyr\", \"eyr\", \"hgt\", \"hcl\", \"ecl\", \"pid\"]\n",
    "#     for field in fields:\n",
    "#         if field not in passport:\n",
    "#             return False\n",
    "#     return True\n",
    "                        \n",
    "def count_valid_passports (passports):\n",
    "    valid_passports = 0\n",
    "    for passport in passports:\n",
    "        if is_valid_passport(passport):\n",
    "            valid_passports += 1\n",
    "    return valid_passports\n",
    "  \n",
    "\n",
    "with open (\"input\") as f:\n",
    "     passport_list = f.read().split(\"\\n\\n\")\n",
    "\n",
    "passports = [passport.split() for passport in passport_list]\n",
    "passports_dict = [make_passport_dict(passport) for passport in passports]\n",
    "\n",
    "print(passports_dict[0])\n",
    "print(count_valid_passports(passports_dict))\n",
    "    "
   ]
  },
  {
   "cell_type": "code",
   "execution_count": null,
   "id": "717a022a",
   "metadata": {},
   "outputs": [],
   "source": [
    "#Part 2\n",
    "\n",
    "\n",
    "def is_valid_passport(passport):\n",
    "  \n",
    "\n",
    "    def valid_years (bry,iyr,eyr):\n",
    "        if 1920 <= int(bry) <= 2002 and \\\n",
    "           2010 <= int(iyr) <= 2020 and \\\n",
    "           2020 <= int(eyr) <= 2030:\n",
    "            return True\n",
    "        return False\n",
    "\n",
    "\n",
    "    def valid_hgt(hgt):\n",
    "        unit = hgt[-2:]\n",
    "\n",
    "        try:\n",
    "            hgt = int(hgt.replace(unit,\"\"))\n",
    "        except ValueError:\n",
    "            return False\n",
    "\n",
    "        if unit == \"cm\":\n",
    "            return 150 <= hgt <=193\n",
    "        elif unit == \"in\":\n",
    "            return 59 <= hgt <=76\n",
    "        return False\n",
    "\n",
    "\n",
    "    def valid_hcl(hcl):\n",
    "        if hcl[0] != \"#\" or len(hcl) != 7:\n",
    "            return False    \n",
    "        for i in hcl[1:]:\n",
    "            if i not in \"0123456789abcdef\": \n",
    "                return False\n",
    "        return True\n",
    "\n",
    "\n",
    "    def valid_ecl(ecl):\n",
    "        valid_color = [\"amb\", \"blu\", \"brn\", \"gry\", \"grn\", \"hzl\", \"oth\"]\n",
    "        if ecl in valid_color:\n",
    "            return True\n",
    "        return False\n",
    "\n",
    "\n",
    "    def valid_pid(pid):\n",
    "        return len(pid) == 9 and pid.isdecimal()\n",
    "\n",
    "\n",
    "\n",
    "def count_valid_passports (passports):\n",
    "    valid_passports = 0\n",
    "    for passport in passports:\n",
    "        if is_valid_passport(passport):\n",
    "            valid_passports += 1\n",
    "    return valid_passports\n"
   ]
  },
  {
   "cell_type": "code",
   "execution_count": 217,
   "id": "ca640376",
   "metadata": {},
   "outputs": [
    {
     "ename": "ValueError",
     "evalue": "invalid literal for int() with base 10: 'iii'",
     "output_type": "error",
     "traceback": [
      "\u001b[0;31m---------------------------------------------------------------------------\u001b[0m",
      "\u001b[0;31mValueError\u001b[0m                                Traceback (most recent call last)",
      "\u001b[0;32m<ipython-input-217-9e40d2036930>\u001b[0m in \u001b[0;36m<module>\u001b[0;34m\u001b[0m\n\u001b[1;32m      9\u001b[0m     \u001b[0;32mreturn\u001b[0m \u001b[0;32mFalse\u001b[0m\u001b[0;34m\u001b[0m\u001b[0;34m\u001b[0m\u001b[0m\n\u001b[1;32m     10\u001b[0m \u001b[0;34m\u001b[0m\u001b[0m\n\u001b[0;32m---> 11\u001b[0;31m \u001b[0mprint\u001b[0m \u001b[0;34m(\u001b[0m\u001b[0mvalid_years\u001b[0m\u001b[0;34m(\u001b[0m\u001b[0;36m1989\u001b[0m\u001b[0;34m,\u001b[0m\u001b[0;36m2010\u001b[0m\u001b[0;34m,\u001b[0m\u001b[0;34m\"iii\"\u001b[0m\u001b[0;34m)\u001b[0m\u001b[0;34m)\u001b[0m\u001b[0;34m\u001b[0m\u001b[0;34m\u001b[0m\u001b[0m\n\u001b[0m",
      "\u001b[0;32m<ipython-input-217-9e40d2036930>\u001b[0m in \u001b[0;36mvalid_years\u001b[0;34m(bry, iyr, eyr)\u001b[0m\n\u001b[1;32m      5\u001b[0m     \u001b[0;32mif\u001b[0m \u001b[0;36m1920\u001b[0m \u001b[0;34m<=\u001b[0m \u001b[0mint\u001b[0m\u001b[0;34m(\u001b[0m\u001b[0mbry\u001b[0m\u001b[0;34m)\u001b[0m \u001b[0;34m<=\u001b[0m \u001b[0;36m2002\u001b[0m \u001b[0;32mand\u001b[0m\u001b[0;31m \u001b[0m\u001b[0;31m\\\u001b[0m\u001b[0;34m\u001b[0m\u001b[0;34m\u001b[0m\u001b[0m\n\u001b[1;32m      6\u001b[0m        \u001b[0;36m2010\u001b[0m \u001b[0;34m<=\u001b[0m \u001b[0mint\u001b[0m\u001b[0;34m(\u001b[0m\u001b[0miyr\u001b[0m\u001b[0;34m)\u001b[0m \u001b[0;34m<=\u001b[0m \u001b[0;36m2020\u001b[0m \u001b[0;32mand\u001b[0m\u001b[0;31m \u001b[0m\u001b[0;31m\\\u001b[0m\u001b[0;34m\u001b[0m\u001b[0;34m\u001b[0m\u001b[0m\n\u001b[0;32m----> 7\u001b[0;31m        \u001b[0;36m2020\u001b[0m \u001b[0;34m<=\u001b[0m \u001b[0mint\u001b[0m\u001b[0;34m(\u001b[0m\u001b[0meyr\u001b[0m\u001b[0;34m)\u001b[0m \u001b[0;34m<=\u001b[0m \u001b[0;36m2030\u001b[0m\u001b[0;34m:\u001b[0m\u001b[0;34m\u001b[0m\u001b[0;34m\u001b[0m\u001b[0m\n\u001b[0m\u001b[1;32m      8\u001b[0m         \u001b[0;32mreturn\u001b[0m \u001b[0;32mTrue\u001b[0m\u001b[0;34m\u001b[0m\u001b[0;34m\u001b[0m\u001b[0m\n\u001b[1;32m      9\u001b[0m     \u001b[0;32mreturn\u001b[0m \u001b[0;32mFalse\u001b[0m\u001b[0;34m\u001b[0m\u001b[0;34m\u001b[0m\u001b[0m\n",
      "\u001b[0;31mValueError\u001b[0m: invalid literal for int() with base 10: 'iii'"
     ]
    }
   ],
   "source": [
    "def valid_years (bry,iyr,eyr):\n",
    "    \n",
    "\n",
    "    try:\n",
    "        if 1920 <= int(bry) <= 2002 and \\\n",
    "           2010 <= int(iyr) <= 2020 and \\\n",
    "           2020 <= int(eyr) <= 2030:\n",
    "            return True\n",
    "    except ValueError:\n",
    "        return False\n",
    "    return False\n",
    "    \n",
    "print (valid_years(1989,2010,\"iii\"))"
   ]
  },
  {
   "cell_type": "code",
   "execution_count": 199,
   "id": "33672eca",
   "metadata": {},
   "outputs": [],
   "source": [
    "def valid_hgt(hgt):\n",
    "    unit = hgt[-2:]\n",
    "\n",
    "    try:\n",
    "        hgt = int(hgt.replace(unit,\"\"))\n",
    "    except ValueError:\n",
    "        return False\n",
    "    \n",
    "    if unit == \"cm\":\n",
    "        return 150 <= hgt <=193\n",
    "    elif unit == \"in\":\n",
    "        return 59 <= hgt <=76\n",
    "    return False\n"
   ]
  },
  {
   "cell_type": "code",
   "execution_count": 204,
   "id": "fef8259e",
   "metadata": {},
   "outputs": [
    {
     "name": "stdout",
     "output_type": "stream",
     "text": [
      "False\n"
     ]
    }
   ],
   "source": [
    "def valid_hcl(hcl):\n",
    "    if hcl[0] != \"#\" or len(hcl) != 7:\n",
    "        return False    \n",
    "    for i in hcl[1:]:\n",
    "        if i not in \"0123456789abcdef\": \n",
    "            return False\n",
    "    return True\n",
    "    \n",
    "hcl = \"#123zc1\"\n",
    "print(valid_hcl(hcl))"
   ]
  },
  {
   "cell_type": "code",
   "execution_count": 190,
   "id": "96a63df2",
   "metadata": {},
   "outputs": [
    {
     "name": "stdout",
     "output_type": "stream",
     "text": [
      "True\n"
     ]
    }
   ],
   "source": [
    "def valid_pid(pid):\n",
    "    return len(pid) == 9 and pid.isdecimal()\n",
    "\n",
    "pid = \"000000001\"\n",
    "print(valid_pid(pid))"
   ]
  },
  {
   "cell_type": "code",
   "execution_count": null,
   "id": "438de600",
   "metadata": {},
   "outputs": [],
   "source": [
    "def is_valid_passport(passport):\n",
    "    valid passport[\"bry\"]"
   ]
  }
 ],
 "metadata": {
  "kernelspec": {
   "display_name": "Python 3",
   "language": "python",
   "name": "python3"
  },
  "language_info": {
   "codemirror_mode": {
    "name": "ipython",
    "version": 3
   },
   "file_extension": ".py",
   "mimetype": "text/x-python",
   "name": "python",
   "nbconvert_exporter": "python",
   "pygments_lexer": "ipython3",
   "version": "3.9.4"
  }
 },
 "nbformat": 4,
 "nbformat_minor": 5
}
