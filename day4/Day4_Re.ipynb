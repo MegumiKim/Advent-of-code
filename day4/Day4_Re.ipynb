{
 "cells": [
  {
   "cell_type": "code",
   "execution_count": 97,
   "id": "2078ed2f",
   "metadata": {},
   "outputs": [
    {
     "name": "stdout",
     "output_type": "stream",
     "text": [
      "['pid:827837505', 'byr:1976', 'hgt:187cm', 'iyr:2016', 'hcl:#fffffd', 'eyr:2024']\n"
     ]
    }
   ],
   "source": [
    "# Part 1:\n",
    "# Count the number of valid passports - those that have all required fields. \n",
    "\n",
    "with open(\"input\") as file:\n",
    "    inputs = file.read().split(\"\\n\\n\")\n",
    "\n",
    "input_passports = [line.split() for line in inputs]\n",
    "print(input_passports[0])\n"
   ]
  },
  {
   "cell_type": "code",
   "execution_count": 98,
   "id": "8ca26d54",
   "metadata": {},
   "outputs": [
    {
     "name": "stdout",
     "output_type": "stream",
     "text": [
      "{'hgt': '189cm', 'byr': '1987', 'pid': '572028668', 'iyr': '2014', 'hcl': '#623a2f', 'eyr': '2028', 'ecl': 'amb'}\n"
     ]
    }
   ],
   "source": [
    "def pass_d(p_list):\n",
    "    pass_d = {}\n",
    "\n",
    "    for field in p_list:\n",
    "        item = field.split(\":\")\n",
    "        pass_d[item[0]] = item[1]\n",
    "    return pass_d\n",
    "\n",
    "print(pass_d(input_passports[1]))"
   ]
  },
  {
   "cell_type": "code",
   "execution_count": 100,
   "id": "fd93d758",
   "metadata": {},
   "outputs": [
    {
     "data": {
      "text/plain": [
       "{'pid': '827837505',\n",
       " 'byr': '1976',\n",
       " 'hgt': '187cm',\n",
       " 'iyr': '2016',\n",
       " 'hcl': '#fffffd',\n",
       " 'eyr': '2024'}"
      ]
     },
     "execution_count": 100,
     "metadata": {},
     "output_type": "execute_result"
    }
   ],
   "source": [
    "def make_pport_dict(p_input):\n",
    "    return {item.split(\":\")[0]:item.split(\":\")[1] for item in p_input}\n",
    "\n",
    "make_pport_dict(input_passports[0])"
   ]
  },
  {
   "cell_type": "code",
   "execution_count": 106,
   "id": "7c72d714",
   "metadata": {},
   "outputs": [
    {
     "data": {
      "text/plain": [
       "{'pid': '827837505',\n",
       " 'byr': '1976',\n",
       " 'hgt': '187cm',\n",
       " 'iyr': '2016',\n",
       " 'hcl': '#fffffd',\n",
       " 'eyr': '2024'}"
      ]
     },
     "execution_count": 106,
     "metadata": {},
     "output_type": "execute_result"
    }
   ],
   "source": [
    "allPass_d = [make_pport_dict(passport) for passport in input_passports]\n",
    "allPass_d[0]"
   ]
  },
  {
   "cell_type": "code",
   "execution_count": 115,
   "id": "5fee1362",
   "metadata": {},
   "outputs": [
    {
     "data": {
      "text/plain": [
       "True"
      ]
     },
     "execution_count": 115,
     "metadata": {},
     "output_type": "execute_result"
    }
   ],
   "source": [
    "def valid_pport(p_dict):\n",
    "    fields = {\"pid\",'byr','hgt','iyr','hcl','ecl','eyr'}\n",
    "    return fields.issubset(p_dict.keys())\n",
    "\n",
    "valid_pport(allPass_d[1])\n",
    "        "
   ]
  },
  {
   "cell_type": "code",
   "execution_count": 113,
   "id": "25f6ee68",
   "metadata": {},
   "outputs": [
    {
     "ename": "AttributeError",
     "evalue": "'list' object has no attribute 'keys'",
     "output_type": "error",
     "traceback": [
      "\u001b[0;31m---------------------------------------------------------------------------\u001b[0m",
      "\u001b[0;31mAttributeError\u001b[0m                            Traceback (most recent call last)",
      "\u001b[0;32m<ipython-input-113-c8675031110c>\u001b[0m in \u001b[0;36m<module>\u001b[0;34m\u001b[0m\n\u001b[1;32m      7\u001b[0m     \u001b[0;32mreturn\u001b[0m \u001b[0mvalid_count\u001b[0m\u001b[0;34m\u001b[0m\u001b[0;34m\u001b[0m\u001b[0m\n\u001b[1;32m      8\u001b[0m \u001b[0;34m\u001b[0m\u001b[0m\n\u001b[0;32m----> 9\u001b[0;31m \u001b[0mcount_valid_pport\u001b[0m\u001b[0;34m(\u001b[0m\u001b[0mallPass_d\u001b[0m\u001b[0;34m)\u001b[0m\u001b[0;34m\u001b[0m\u001b[0;34m\u001b[0m\u001b[0m\n\u001b[0m",
      "\u001b[0;32m<ipython-input-113-c8675031110c>\u001b[0m in \u001b[0;36mcount_valid_pport\u001b[0;34m(inputs)\u001b[0m\n\u001b[1;32m      3\u001b[0m \u001b[0;34m\u001b[0m\u001b[0m\n\u001b[1;32m      4\u001b[0m     \u001b[0;32mfor\u001b[0m \u001b[0mpassport\u001b[0m \u001b[0;32min\u001b[0m \u001b[0mpassports\u001b[0m\u001b[0;34m:\u001b[0m\u001b[0;34m\u001b[0m\u001b[0;34m\u001b[0m\u001b[0m\n\u001b[0;32m----> 5\u001b[0;31m         \u001b[0;32mif\u001b[0m \u001b[0mvalid_pport\u001b[0m\u001b[0;34m(\u001b[0m\u001b[0mpassport\u001b[0m\u001b[0;34m)\u001b[0m\u001b[0;34m:\u001b[0m\u001b[0;34m\u001b[0m\u001b[0;34m\u001b[0m\u001b[0m\n\u001b[0m\u001b[1;32m      6\u001b[0m             \u001b[0mvalid_count\u001b[0m\u001b[0;34m+=\u001b[0m\u001b[0;36m1\u001b[0m\u001b[0;34m\u001b[0m\u001b[0;34m\u001b[0m\u001b[0m\n\u001b[1;32m      7\u001b[0m     \u001b[0;32mreturn\u001b[0m \u001b[0mvalid_count\u001b[0m\u001b[0;34m\u001b[0m\u001b[0;34m\u001b[0m\u001b[0m\n",
      "\u001b[0;32m<ipython-input-112-237c98fcb8fe>\u001b[0m in \u001b[0;36mvalid_pport\u001b[0;34m(p_dict)\u001b[0m\n\u001b[1;32m      1\u001b[0m \u001b[0;32mdef\u001b[0m \u001b[0mvalid_pport\u001b[0m\u001b[0;34m(\u001b[0m\u001b[0mp_dict\u001b[0m\u001b[0;34m)\u001b[0m\u001b[0;34m:\u001b[0m\u001b[0;34m\u001b[0m\u001b[0;34m\u001b[0m\u001b[0m\n\u001b[1;32m      2\u001b[0m     \u001b[0mfields\u001b[0m \u001b[0;34m=\u001b[0m \u001b[0;34m{\u001b[0m\u001b[0;34m\"pid\"\u001b[0m\u001b[0;34m,\u001b[0m\u001b[0;34m'byr'\u001b[0m\u001b[0;34m,\u001b[0m\u001b[0;34m'hgt'\u001b[0m\u001b[0;34m,\u001b[0m\u001b[0;34m'iyr'\u001b[0m\u001b[0;34m,\u001b[0m\u001b[0;34m'hcl'\u001b[0m\u001b[0;34m,\u001b[0m\u001b[0;34m'ecl'\u001b[0m\u001b[0;34m,\u001b[0m\u001b[0;34m'eyr'\u001b[0m\u001b[0;34m}\u001b[0m\u001b[0;34m\u001b[0m\u001b[0;34m\u001b[0m\u001b[0m\n\u001b[0;32m----> 3\u001b[0;31m     \u001b[0;32mreturn\u001b[0m \u001b[0mfields\u001b[0m\u001b[0;34m.\u001b[0m\u001b[0missubset\u001b[0m\u001b[0;34m(\u001b[0m\u001b[0mp_dict\u001b[0m\u001b[0;34m.\u001b[0m\u001b[0mkeys\u001b[0m\u001b[0;34m(\u001b[0m\u001b[0;34m)\u001b[0m\u001b[0;34m)\u001b[0m\u001b[0;34m\u001b[0m\u001b[0;34m\u001b[0m\u001b[0m\n\u001b[0m\u001b[1;32m      4\u001b[0m \u001b[0;34m\u001b[0m\u001b[0m\n\u001b[1;32m      5\u001b[0m \u001b[0mvalid_pport\u001b[0m\u001b[0;34m(\u001b[0m\u001b[0mallPass_d\u001b[0m\u001b[0;34m[\u001b[0m\u001b[0;36m0\u001b[0m\u001b[0;34m]\u001b[0m\u001b[0;34m)\u001b[0m\u001b[0;34m\u001b[0m\u001b[0;34m\u001b[0m\u001b[0m\n",
      "\u001b[0;31mAttributeError\u001b[0m: 'list' object has no attribute 'keys'"
     ]
    }
   ],
   "source": [
    "def count_valid_pport(inputs):\n",
    "    valid_count=0\n",
    "\n",
    "    for passport in passports:\n",
    "        if valid_pport(passport):\n",
    "            valid_count+=1\n",
    "    return valid_count\n",
    "\n",
    "count_valid_pport(allPass_d)"
   ]
  },
  {
   "cell_type": "code",
   "execution_count": null,
   "id": "c6f7b335",
   "metadata": {},
   "outputs": [],
   "source": []
  }
 ],
 "metadata": {
  "kernelspec": {
   "display_name": "Python 3",
   "language": "python",
   "name": "python3"
  },
  "language_info": {
   "codemirror_mode": {
    "name": "ipython",
    "version": 3
   },
   "file_extension": ".py",
   "mimetype": "text/x-python",
   "name": "python",
   "nbconvert_exporter": "python",
   "pygments_lexer": "ipython3",
   "version": "3.9.4"
  }
 },
 "nbformat": 4,
 "nbformat_minor": 5
}
