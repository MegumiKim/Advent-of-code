{
 "cells": [
  {
   "cell_type": "code",
   "execution_count": 1,
   "id": "56b15a46",
   "metadata": {},
   "outputs": [
    {
     "ename": "NameError",
     "evalue": "name 'int_list' is not defined",
     "output_type": "error",
     "traceback": [
      "\u001b[0;31m---------------------------------------------------------------------------\u001b[0m",
      "\u001b[0;31mNameError\u001b[0m                                 Traceback (most recent call last)",
      "\u001b[0;32m/var/folders/4l/cnfn92z93kd9tht31g9rzgr00000gp/T/ipykernel_51299/3900940863.py\u001b[0m in \u001b[0;36m<module>\u001b[0;34m\u001b[0m\n\u001b[1;32m     31\u001b[0m \u001b[0;34m\u001b[0m\u001b[0m\n\u001b[1;32m     32\u001b[0m \u001b[0mpreamble_length\u001b[0m \u001b[0;34m=\u001b[0m \u001b[0;36m5\u001b[0m\u001b[0;34m\u001b[0m\u001b[0;34m\u001b[0m\u001b[0m\n\u001b[0;32m---> 33\u001b[0;31m \u001b[0mpart2\u001b[0m\u001b[0;34m(\u001b[0m\u001b[0mint_list\u001b[0m\u001b[0;34m,\u001b[0m \u001b[0mpreamble_length\u001b[0m\u001b[0;34m)\u001b[0m\u001b[0;34m\u001b[0m\u001b[0;34m\u001b[0m\u001b[0m\n\u001b[0m",
      "\u001b[0;31mNameError\u001b[0m: name 'int_list' is not defined"
     ]
    }
   ],
   "source": [
    "with open('input') as file:\n",
    "    num_list = list(map(int,file.readlines()))\n",
    "    \n",
    "def is_valid_number(previous_numbers, current_number):\n",
    "    print('Starting the function with the current number as %s' % (current_number))\n",
    "\n",
    "    for n in previous_numbers:\n",
    "        print('n = %s  ' % (n))\n",
    "        for i in previous_numbers:\n",
    "            print('i = %s  ' % (i))\n",
    "            if i == n: \n",
    "                print('%s and %s are the same number ' % (i,n))\n",
    "                pass\n",
    "            else:\n",
    "                print('%s = %s == %s' % (i, n, i+n))\n",
    "                if i + n == current_number:\n",
    "                    print('found the numbers! %s = %s == %s' % (i, n, current_number))\n",
    "                    return True\n",
    "    return False\n",
    "    \n",
    "\n",
    "    \n",
    "    \n",
    "def part2(num_list, preamble_length):\n",
    "    \n",
    "        for i in range(preamble_length,len(num_list)): \n",
    "            current_number = num_list[i]\n",
    "            previous_numbers = num_list[i-preamble_length:i]\n",
    "            if not is_valid_number(previous_numbers, current_number):\n",
    "                return current_number\n",
    "                \n",
    "\n",
    "preamble_length = 5\n",
    "part2(int_list, preamble_length)"
   ]
  },
  {
   "cell_type": "code",
   "execution_count": 55,
   "id": "739ff5da",
   "metadata": {},
   "outputs": [
    {
     "data": {
      "text/plain": [
       "23278925"
      ]
     },
     "execution_count": 55,
     "metadata": {},
     "output_type": "execute_result"
    }
   ],
   "source": [
    "# Part 1:\n",
    "\n",
    "with open('input') as file:\n",
    "    num_list = list(map(int,file.readlines()))\n",
    "\n",
    "    \n",
    "    \n",
    "def is_valid_number(preambles, current_number):\n",
    "\n",
    "    for x in preambles:\n",
    "        for y in preambles:\n",
    "            if y == x: \n",
    "                pass\n",
    "            else:\n",
    "                if y + x == current_number:\n",
    "                    return True\n",
    "    return False\n",
    "       \n",
    "    \n",
    "def part1(num_list, preamble_length):\n",
    "    \n",
    "        for i in range(preamble_length,len(num_list)): \n",
    "            \n",
    "            current_number = num_list[i]\n",
    "            preambles = num_list[i-preamble_length:i]\n",
    "            \n",
    "            if not is_valid_number(preambles, current_number):\n",
    "                return current_number\n",
    "                \n",
    "\n",
    "preamble_length = 25\n",
    "part1(int_list, preamble_length)"
   ]
  },
  {
   "cell_type": "code",
   "execution_count": 57,
   "id": "d3451452",
   "metadata": {},
   "outputs": [
    {
     "name": "stdout",
     "output_type": "stream",
     "text": [
      "Part2: 4011064\n"
     ]
    }
   ],
   "source": [
    "# Part2\n",
    "                    \n",
    "def find_contiguous(taget_sum, num_list):\n",
    "    \n",
    "    for i in range(len(num_list)): \n",
    "        \n",
    "        for n in range(i+1, len(num_list)):\n",
    "            contiguous = num_list[i:n]\n",
    "\n",
    "            if sum(contiguous) == target_sum:\n",
    "                return min(contiguous) + max(contiguous)\n",
    "\n",
    "target_sum = 23278925\n",
    "print(\"Part2:\", find_contiguous(target_sum, num_list))\n"
   ]
  }
 ],
 "metadata": {
  "kernelspec": {
   "display_name": "Python 3 (ipykernel)",
   "language": "python",
   "name": "python3"
  },
  "language_info": {
   "codemirror_mode": {
    "name": "ipython",
    "version": 3
   },
   "file_extension": ".py",
   "mimetype": "text/x-python",
   "name": "python",
   "nbconvert_exporter": "python",
   "pygments_lexer": "ipython3",
   "version": "3.9.6"
  }
 },
 "nbformat": 4,
 "nbformat_minor": 5
}
