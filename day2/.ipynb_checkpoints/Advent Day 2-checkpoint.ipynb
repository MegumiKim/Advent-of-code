{
 "cells": [
  {
   "cell_type": "code",
   "execution_count": 37,
   "id": "771d1bfe",
   "metadata": {},
   "outputs": [
    {
     "name": "stdout",
     "output_type": "stream",
     "text": [
      "Part 1: 519\n",
      "Part 2: 708\n"
     ]
    }
   ],
   "source": [
    "#Part 1\n",
    "\n",
    "with open(\"input\") as f:\n",
    "    pswd_lines = [policy_pswd_dic (line) for line in f]\n",
    "    \n",
    "def policy_pswd_dic (l):\n",
    "    dic = {}\n",
    "    item = l.split()\n",
    "    \n",
    "    dic[\"min\"] = int(item[0].split(\"-\")[0])\n",
    "    dic[\"max\"] = int(item[0].split(\"-\")[1])\n",
    "    dic[\"char\"] = item[1][0]\n",
    "    dic[\"pswd\"] = item[2]\n",
    "\n",
    "    return dic\n",
    "\n",
    "\n",
    "def is_valid_passwd_part1(dic):\n",
    "    return dic['min'] <= dic['pswd'].count(dic['char']) <= dic['max']\n",
    "\n",
    "\n",
    "def count_valid_passwds_part1(lines):\n",
    "    valid_passwds_count = 0\n",
    "    \n",
    "    for line in lines:\n",
    "        if is_valid_passwd_part1(line):\n",
    "            valid_passwds_count +=1\n",
    "    return valid_passwds_count\n",
    "    \n",
    "# Part 2\n",
    "\n",
    "def is_valid_passwd_part2(d):\n",
    "    return (d['pswd'][d['min']-1]==d['char']) != (d['pswd'][d['max']-1]==d['char'])    \n",
    "\n",
    "\n",
    "def count_valid_pswd_part2(lines):\n",
    "    valid_pswd_part2 = 0\n",
    "    \n",
    "    for line in lines:\n",
    "        if is_valid_passwd_part2(line):\n",
    "            valid_pswd_part2 +=1\n",
    "    return valid_pswd_part2    \n",
    "\n",
    "\n",
    "print(\"Part 1:\", count_valid_passwds_part1(pswd_lines))\n",
    "print(\"Part 2:\", count_valid_pswd_part2(pswd_lines))"
   ]
  },
  {
   "cell_type": "code",
   "execution_count": null,
   "id": "78f1f2cc",
   "metadata": {},
   "outputs": [],
   "source": []
  }
 ],
 "metadata": {
  "kernelspec": {
   "display_name": "Python 3",
   "language": "python",
   "name": "python3"
  },
  "language_info": {
   "codemirror_mode": {
    "name": "ipython",
    "version": 3
   },
   "file_extension": ".py",
   "mimetype": "text/x-python",
   "name": "python",
   "nbconvert_exporter": "python",
   "pygments_lexer": "ipython3",
   "version": "3.9.4"
  }
 },
 "nbformat": 4,
 "nbformat_minor": 5
}
