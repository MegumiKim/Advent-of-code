{
 "cells": [
  {
   "cell_type": "code",
   "execution_count": 58,
   "id": "f99d6e4f",
   "metadata": {},
   "outputs": [
    {
     "name": "stdout",
     "output_type": "stream",
     "text": [
      "Part1: 519\n"
     ]
    }
   ],
   "source": [
    "# Part 1: Each line gives the password policy and then the password. \n",
    "# The password policy indicates the lowest and highest number of times \n",
    "# a given letter must appear for the password to be valid.\n",
    "# How many passwords are valid according to their policies?\n",
    "\n",
    "with open(\"input\") as file:\n",
    "    inputs = [passwd_dict(line) for line in file]\n",
    "    \n",
    "# convert inputs into dictionaries\n",
    "def passwd_dict(string):\n",
    "\n",
    "    passwd_d = {}   \n",
    "    item = string.split()\n",
    "\n",
    "    passwd_d[\"min\"] = int(item[0].split(\"-\")[0])\n",
    "    passwd_d[\"max\"] = int(item[0].split(\"-\")[1])\n",
    "    passwd_d[\"char\"] = item[1][0]\n",
    "    passwd_d[\"pswd\"] = item[2]\n",
    "\n",
    "    return passwd_d    \n",
    "\n",
    "\n",
    "def valid_passwd(dic):\n",
    "    return dic['min'] <= dic['pswd'].count(dic[\"char\"]) <= dic[\"max\"]\n",
    "\n",
    "\n",
    "def valid_psswd_count(lines):\n",
    "    count = 0\n",
    "    \n",
    "    for line in lines:\n",
    "        if valid_passwd(line):\n",
    "            count+=1\n",
    "    return count\n",
    "\n",
    "print(\"Part1:\", valid_psswd_count(inputs))"
   ]
  },
  {
   "cell_type": "code",
   "execution_count": 72,
   "id": "a6bd0246",
   "metadata": {},
   "outputs": [
    {
     "name": "stdout",
     "output_type": "stream",
     "text": [
      "Part2: 708\n"
     ]
    }
   ],
   "source": [
    "# Part 2: Each policy actually describes two positions in the password, \n",
    "# where 1 means the first character, 2 means the second character, and so on.\n",
    "\n",
    "def valid_passwd_2(dic):\n",
    "    return (dic['pswd'][dic['min']-1]==dic['char']) != (dic['pswd'][dic['max']-1]==dic['char'])\n",
    "\n",
    "\n",
    "def valid_psswd_count2(lines):\n",
    "    count = 0\n",
    "    \n",
    "    for line in lines:\n",
    "        if valid_passwd_2(line):\n",
    "            count+=1\n",
    "    return count\n",
    "\n",
    "print(\"Part2:\", valid_psswd_count2(inputs))"
   ]
  }
 ],
 "metadata": {
  "kernelspec": {
   "display_name": "Python 3",
   "language": "python",
   "name": "python3"
  },
  "language_info": {
   "codemirror_mode": {
    "name": "ipython",
    "version": 3
   },
   "file_extension": ".py",
   "mimetype": "text/x-python",
   "name": "python",
   "nbconvert_exporter": "python",
   "pygments_lexer": "ipython3",
   "version": "3.9.4"
  }
 },
 "nbformat": 4,
 "nbformat_minor": 5
}
