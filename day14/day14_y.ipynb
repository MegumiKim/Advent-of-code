{
 "cells": [
  {
   "cell_type": "code",
   "execution_count": 42,
   "source": [
    "from pprint import pprint\n",
    "def parse_program(program):\n",
    "    commands = []\n",
    "    blocks = program.split('mask = ')\n",
    "    blocks = blocks[1:]\n",
    "    blocks = [b.splitlines() for b in blocks]\n",
    "    parsed_commands = []\n",
    "    for block in blocks:\n",
    "        mask = block[0]\n",
    "        assignments = block[1:]\n",
    "        parsed_assignments = []\n",
    "        for assignment in assignments:\n",
    "            command, value = assignment.split(\" = \")\n",
    "            key = int(command[4:-1])\n",
    "            value = int(value)\n",
    "            bi_key = f'{key:036b}'\n",
    "            parsed_assignments.append((bi_key, value,))\n",
    "        parsed_commands.append((mask, parsed_assignments))\n",
    "    return parsed_commands\n",
    "\n",
    "\n",
    "def apply_mask_to_address(addr, mask):\n",
    "    res = ''\n",
    "    for i, c in enumerate(mask):\n",
    "        if c == '1':\n",
    "            res+='1'\n",
    "        elif c == '0':\n",
    "            res+=addr[i]\n",
    "        else:\n",
    "            res+='X'        \n",
    "    return res\n",
    "\n",
    "\n",
    "def get_masked_address_combinations(addr):\n",
    "    res = []\n",
    "\n",
    "    def parse_addr(addr):\n",
    "        for i, c in enumerate(addr):\n",
    "            if c == 'X':\n",
    "                addr_one = [c for c in addr]\n",
    "                addr_zero = addr_one[:]\n",
    "                addr_one[i] = '1'\n",
    "                addr_zero[i] = '0'\n",
    "                addr_one = ''.join(addr_one)\n",
    "                addr_zero = ''.join(addr_zero)                \n",
    "                parse_addr(addr_one)\n",
    "                parse_addr(addr_zero)\n",
    "                return\n",
    "        res.append(addr)\n",
    "    parse_addr(addr)\n",
    "    return res\n",
    "\n",
    "\n",
    "def process_block(block):\n",
    "    mask, assignments = block\n",
    "    res = []\n",
    "    for assignment in assignments:\n",
    "        addr, val = assignment\n",
    "        masked_address = apply_mask_to_address(addr, mask)\n",
    "        print('masked_ad:', masked_address)\n",
    "        addresses = get_masked_address_combinations(masked_address)\n",
    "        res.append({\n",
    "            addr: val for addr in addresses\n",
    "        })\n",
    "\n",
    "    return res\n",
    "\n",
    "program = ''\n",
    "with open('input copy 2')as file:\n",
    "    program = file.read()\n",
    "program = parse_program(program)\n",
    "block = program[0]\n",
    "process_block(block)"
   ],
   "outputs": [
    {
     "output_type": "stream",
     "name": "stdout",
     "text": [
      "masked_ad: 000000000000000000000000000000X1101X\n"
     ]
    },
    {
     "output_type": "execute_result",
     "data": {
      "text/plain": [
       "[{'000000000000000000000000000000111011': 100,\n",
       "  '000000000000000000000000000000111010': 100,\n",
       "  '000000000000000000000000000000011011': 100,\n",
       "  '000000000000000000000000000000011010': 100}]"
      ]
     },
     "metadata": {},
     "execution_count": 42
    }
   ],
   "metadata": {}
  }
 ],
 "metadata": {
  "kernelspec": {
   "name": "python3",
   "display_name": "Python 3.9.4 64-bit"
  },
  "language_info": {
   "codemirror_mode": {
    "name": "ipython",
    "version": 3
   },
   "file_extension": ".py",
   "mimetype": "text/x-python",
   "name": "python",
   "nbconvert_exporter": "python",
   "pygments_lexer": "ipython3",
   "version": "3.9.4"
  },
  "interpreter": {
   "hash": "aee8b7b246df8f9039afb4144a1f6fd8d2ca17a180786b69acc140d282b71a49"
  }
 },
 "nbformat": 4,
 "nbformat_minor": 5
}