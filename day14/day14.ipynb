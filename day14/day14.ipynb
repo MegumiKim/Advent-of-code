{
 "cells": [
  {
   "cell_type": "code",
   "execution_count": 253,
   "source": [
    "with open('input')as file:\n",
    "    lines = file.read().splitlines()\n",
    "\n",
    "    \n",
    "def masking(line, mask):\n",
    "\n",
    "    bits = [l for l in line]\n",
    "    \n",
    "    for position, bit in enumerate(mask):\n",
    "        if bit != 'X':\n",
    "            bits[position] = bit\n",
    "\n",
    "    bits = ''.join(bits)\n",
    "\n",
    "    return int(bits, 2)\n",
    "\n",
    "\n",
    "mem = {}\n",
    "current_mask = 0\n",
    "\n",
    "for line in lines:\n",
    "    command, value = line.split(\" = \")\n",
    "\n",
    "    if command == \"mask\":\n",
    "        current_mask = value\n",
    "\n",
    "    else :\n",
    "        key = int(command[4:-1])\n",
    "        value = int(value)\n",
    "        bi_value = f'{value:036b}'\n",
    "        mem[key] = masking(bi_value, current_mask)\n",
    "        \n",
    "print(\"Part 1:\", sum(mem.values()))"
   ],
   "outputs": [
    {
     "output_type": "stream",
     "name": "stdout",
     "text": [
      "Part 1: 6317049172545\n"
     ]
    }
   ],
   "metadata": {}
  },
  {
   "cell_type": "code",
   "execution_count": 246,
   "source": [
    "mem = {}\n",
    "current_mask = 0\n",
    "\n",
    "for line in lines:\n",
    "    left, right = line.split(\" = \")\n",
    "\n",
    "    if left == \"mask\":\n",
    "        current_mask = right\n",
    "    \n",
    "    else :\n",
    "        key = left[4:-1]\n",
    "        bi_key = f'{int(key):036b}'\n",
    "        value = right\n",
    "\n",
    "        # mem[int(key)] = masking(binary, current_mask)"
   ],
   "outputs": [],
   "metadata": {}
  },
  {
   "cell_type": "code",
   "execution_count": 247,
   "source": [
    "def masking_2(line, mask):\n",
    "\n",
    "    new_line = [l for l in line]\n",
    "\n",
    "    for n, i in enumerate(mask):\n",
    "        if i == 1:\n",
    "            new_line[n] = 1\n",
    "\n",
    "        if i == 'X':\n",
    "            new_line[n] = 'X'\n",
    "\n",
    "    new_line = ''.join(new_line)\n",
    "\n",
    "    print('line  :', line)\n",
    "    print('mask  :', mask)\n",
    "    print('n_line:', new_line)\n",
    "    return \n",
    "\n",
    "mask = '000000000000000000000000000000X1001X'\n",
    "line = '000000000000000000000000000000101010'\n",
    "\n",
    "masking_2(line, mask)"
   ],
   "outputs": [
    {
     "output_type": "stream",
     "name": "stdout",
     "text": [
      "line  : 000000000000000000000000000000101010\n",
      "mask  : 000000000000000000000000000000X1001X\n",
      "n_line: 000000000000000000000000000000X0101X\n"
     ]
    }
   ],
   "metadata": {}
  },
  {
   "cell_type": "code",
   "execution_count": null,
   "source": [],
   "outputs": [],
   "metadata": {}
  }
 ],
 "metadata": {
  "kernelspec": {
   "name": "python3",
   "display_name": "Python 3.9.4 64-bit"
  },
  "language_info": {
   "codemirror_mode": {
    "name": "ipython",
    "version": 3
   },
   "file_extension": ".py",
   "mimetype": "text/x-python",
   "name": "python",
   "nbconvert_exporter": "python",
   "pygments_lexer": "ipython3",
   "version": "3.9.4"
  },
  "interpreter": {
   "hash": "aee8b7b246df8f9039afb4144a1f6fd8d2ca17a180786b69acc140d282b71a49"
  }
 },
 "nbformat": 4,
 "nbformat_minor": 5
}