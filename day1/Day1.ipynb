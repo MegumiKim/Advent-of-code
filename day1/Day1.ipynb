{
 "cells": [
  {
   "cell_type": "code",
   "execution_count": 62,
   "id": "5e5087a0",
   "metadata": {},
   "outputs": [
    {
     "name": "stdout",
     "output_type": "stream",
     "text": [
      "Part1:  436404\n"
     ]
    }
   ],
   "source": [
    "# Part 1: Find the two entries that sum to 2020;\n",
    "# what do you get if you multiply them together?\n",
    "\n",
    "with open('input.txt') as file:\n",
    "    inputs = [int(line) for line in file]\n",
    "\n",
    "def expense(report):\n",
    "    for n in report:\n",
    "        if 2020-n in report:\n",
    "            return n*(2020-n)\n",
    "        \n",
    "print(\"Part1:\", expense(inputs))"
   ]
  },
  {
   "cell_type": "code",
   "execution_count": 64,
   "id": "155a5a7c",
   "metadata": {},
   "outputs": [
    {
     "name": "stdout",
     "output_type": "stream",
     "text": [
      "Part1: 274879808\n"
     ]
    }
   ],
   "source": [
    "#Part 2: what is the product of the three entries that sum to 2020?\n",
    "\n",
    "def expense_2(report):\n",
    "    for n in report:\n",
    "        for n2 in report:\n",
    "            if 2020-n-n2 in report:\n",
    "                return n*n2*(2020-n-n2)\n",
    "        \n",
    "print(\"Part1:\", expense_2(inputs))"
   ]
  }
 ],
 "metadata": {
  "kernelspec": {
   "display_name": "Python 3",
   "language": "python",
   "name": "python3"
  },
  "language_info": {
   "codemirror_mode": {
    "name": "ipython",
    "version": 3
   },
   "file_extension": ".py",
   "mimetype": "text/x-python",
   "name": "python",
   "nbconvert_exporter": "python",
   "pygments_lexer": "ipython3",
   "version": "3.9.4"
  }
 },
 "nbformat": 4,
 "nbformat_minor": 5
}
