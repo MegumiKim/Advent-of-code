{
 "cells": [
  {
   "cell_type": "code",
   "execution_count": 6,
   "id": "7e61bd98",
   "metadata": {},
   "outputs": [
    {
     "name": "stdout",
     "output_type": "stream",
     "text": [
      "514579\n"
     ]
    }
   ],
   "source": [
    "#test\n",
    "\n",
    "report = [1721,979,366,299,675,1456]\n",
    "\n",
    "for n in report:\n",
    "    if 2020-n in report:\n",
    "        answer = n*(2020-n)\n",
    "\n",
    "print (answer)\n"
   ]
  },
  {
   "cell_type": "code",
   "execution_count": 1,
   "id": "536db437",
   "metadata": {},
   "outputs": [
    {
     "name": "stdout",
     "output_type": "stream",
     "text": [
      "436404\n"
     ]
    }
   ],
   "source": [
    "#Part 1\n",
    "\n",
    "def expense (report):\n",
    "    \n",
    "    for n in report:\n",
    "        if 2020-n in report:\n",
    "            return n*(2020-n)\n",
    "\n",
    "with open(\"input.txt\") as file:\n",
    "    report = [int(line) for line in file]\n",
    "    \n",
    "print (expense(report))\n"
   ]
  },
  {
   "cell_type": "code",
   "execution_count": 3,
   "id": "a9103be2",
   "metadata": {},
   "outputs": [
    {
     "name": "stdout",
     "output_type": "stream",
     "text": [
      "274879808\n"
     ]
    }
   ],
   "source": [
    "#Part 2\n",
    "\n",
    "def expense (report):\n",
    "    \n",
    "    for n in report:\n",
    "        for n2 in report:\n",
    "            if (2020-n-n2) in report:\n",
    "                return n*n2*(2020-n-n2)\n",
    "            \n",
    "with open(\"input.txt\") as file:\n",
    "    report = [int(line) for line in file]\n",
    "    \n",
    "print (expense(report))\n"
   ]
  },
  {
   "cell_type": "code",
   "execution_count": 22,
   "id": "16e2e4e1",
   "metadata": {},
   "outputs": [
    {
     "ename": "SyntaxError",
     "evalue": "cannot assign to function call (<ipython-input-22-34227f7d8fa4>, line 6)",
     "output_type": "error",
     "traceback": [
      "\u001b[0;36m  File \u001b[0;32m\"<ipython-input-22-34227f7d8fa4>\"\u001b[0;36m, line \u001b[0;32m6\u001b[0m\n\u001b[0;31m    list_comp = [(policy, pswd) for l.split(\": \") in new_list]\u001b[0m\n\u001b[0m                                    ^\u001b[0m\n\u001b[0;31mSyntaxError\u001b[0m\u001b[0;31m:\u001b[0m cannot assign to function call\n"
     ]
    }
   ],
   "source": [
    "#test\n",
    "test_list = \"1-3 a: abcde\\n1-3 b: cdefg\\n2-9 c: ccccccccc\"\n",
    "\n",
    "new_list = test_list.split(\"\\n\")\n",
    "\n",
    "list_comp = [(policy, pswd) for l.split(\": \") in new_list]\n",
    "\n",
    "print (list_comp)"
   ]
  },
  {
   "cell_type": "code",
   "execution_count": null,
   "id": "6e268775",
   "metadata": {},
   "outputs": [],
   "source": []
  }
 ],
 "metadata": {
  "kernelspec": {
   "display_name": "Python 3",
   "language": "python",
   "name": "python3"
  },
  "language_info": {
   "codemirror_mode": {
    "name": "ipython",
    "version": 3
   },
   "file_extension": ".py",
   "mimetype": "text/x-python",
   "name": "python",
   "nbconvert_exporter": "python",
   "pygments_lexer": "ipython3",
   "version": "3.9.4"
  }
 },
 "nbformat": 4,
 "nbformat_minor": 5
}
